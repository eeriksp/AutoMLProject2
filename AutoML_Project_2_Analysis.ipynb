{
  "cells": [
    {
      "cell_type": "markdown",
      "metadata": {
        "id": "3mu5qXvxg-zQ"
      },
      "source": [
        "## IMPORTS"
      ]
    },
    {
      "cell_type": "code",
      "execution_count": null,
      "metadata": {
        "colab": {
          "base_uri": "https://localhost:8080/"
        },
        "id": "BCQq1Hx2UOfT",
        "outputId": "3d1e127e-35c2-41c0-a7b8-9c62e0354208"
      },
      "outputs": [
        {
          "output_type": "stream",
          "name": "stdout",
          "text": [
            "Requirement already satisfied: librosa in /usr/local/lib/python3.10/dist-packages (0.10.1)\n",
            "Requirement already satisfied: audioread>=2.1.9 in /usr/local/lib/python3.10/dist-packages (from librosa) (3.0.1)\n",
            "Requirement already satisfied: numpy!=1.22.0,!=1.22.1,!=1.22.2,>=1.20.3 in /usr/local/lib/python3.10/dist-packages (from librosa) (1.23.5)\n",
            "Requirement already satisfied: scipy>=1.2.0 in /usr/local/lib/python3.10/dist-packages (from librosa) (1.11.4)\n",
            "Requirement already satisfied: scikit-learn>=0.20.0 in /usr/local/lib/python3.10/dist-packages (from librosa) (1.2.2)\n",
            "Requirement already satisfied: joblib>=0.14 in /usr/local/lib/python3.10/dist-packages (from librosa) (1.3.2)\n",
            "Requirement already satisfied: decorator>=4.3.0 in /usr/local/lib/python3.10/dist-packages (from librosa) (4.4.2)\n",
            "Requirement already satisfied: numba>=0.51.0 in /usr/local/lib/python3.10/dist-packages (from librosa) (0.58.1)\n",
            "Requirement already satisfied: soundfile>=0.12.1 in /usr/local/lib/python3.10/dist-packages (from librosa) (0.12.1)\n",
            "Requirement already satisfied: pooch>=1.0 in /usr/local/lib/python3.10/dist-packages (from librosa) (1.8.0)\n",
            "Requirement already satisfied: soxr>=0.3.2 in /usr/local/lib/python3.10/dist-packages (from librosa) (0.3.7)\n",
            "Requirement already satisfied: typing-extensions>=4.1.1 in /usr/local/lib/python3.10/dist-packages (from librosa) (4.5.0)\n",
            "Requirement already satisfied: lazy-loader>=0.1 in /usr/local/lib/python3.10/dist-packages (from librosa) (0.3)\n",
            "Requirement already satisfied: msgpack>=1.0 in /usr/local/lib/python3.10/dist-packages (from librosa) (1.0.7)\n",
            "Requirement already satisfied: llvmlite<0.42,>=0.41.0dev0 in /usr/local/lib/python3.10/dist-packages (from numba>=0.51.0->librosa) (0.41.1)\n",
            "Requirement already satisfied: platformdirs>=2.5.0 in /usr/local/lib/python3.10/dist-packages (from pooch>=1.0->librosa) (4.1.0)\n",
            "Requirement already satisfied: packaging>=20.0 in /usr/local/lib/python3.10/dist-packages (from pooch>=1.0->librosa) (23.2)\n",
            "Requirement already satisfied: requests>=2.19.0 in /usr/local/lib/python3.10/dist-packages (from pooch>=1.0->librosa) (2.31.0)\n",
            "Requirement already satisfied: threadpoolctl>=2.0.0 in /usr/local/lib/python3.10/dist-packages (from scikit-learn>=0.20.0->librosa) (3.2.0)\n",
            "Requirement already satisfied: cffi>=1.0 in /usr/local/lib/python3.10/dist-packages (from soundfile>=0.12.1->librosa) (1.16.0)\n",
            "Requirement already satisfied: pycparser in /usr/local/lib/python3.10/dist-packages (from cffi>=1.0->soundfile>=0.12.1->librosa) (2.21)\n",
            "Requirement already satisfied: charset-normalizer<4,>=2 in /usr/local/lib/python3.10/dist-packages (from requests>=2.19.0->pooch>=1.0->librosa) (3.3.2)\n",
            "Requirement already satisfied: idna<4,>=2.5 in /usr/local/lib/python3.10/dist-packages (from requests>=2.19.0->pooch>=1.0->librosa) (3.6)\n",
            "Requirement already satisfied: urllib3<3,>=1.21.1 in /usr/local/lib/python3.10/dist-packages (from requests>=2.19.0->pooch>=1.0->librosa) (2.0.7)\n",
            "Requirement already satisfied: certifi>=2017.4.17 in /usr/local/lib/python3.10/dist-packages (from requests>=2.19.0->pooch>=1.0->librosa) (2023.11.17)\n",
            "Requirement already satisfied: soundfile in /usr/local/lib/python3.10/dist-packages (0.12.1)\n",
            "Requirement already satisfied: cffi>=1.0 in /usr/local/lib/python3.10/dist-packages (from soundfile) (1.16.0)\n",
            "Requirement already satisfied: pycparser in /usr/local/lib/python3.10/dist-packages (from cffi>=1.0->soundfile) (2.21)\n",
            "Collecting git+https://github.com/openai/whisper.git\n",
            "  Cloning https://github.com/openai/whisper.git to /tmp/pip-req-build-c5lfs9mo\n",
            "  Running command git clone --filter=blob:none --quiet https://github.com/openai/whisper.git /tmp/pip-req-build-c5lfs9mo\n",
            "  Resolved https://github.com/openai/whisper.git to commit 8bc8860694949db53c42ba47ddc23786c2e02a8b\n",
            "  Installing build dependencies ... \u001b[?25l\u001b[?25hdone\n",
            "  Getting requirements to build wheel ... \u001b[?25l\u001b[?25hdone\n",
            "  Preparing metadata (pyproject.toml) ... \u001b[?25l\u001b[?25hdone\n",
            "Requirement already satisfied: numba in /usr/local/lib/python3.10/dist-packages (from openai-whisper==20231117) (0.58.1)\n",
            "Requirement already satisfied: numpy in /usr/local/lib/python3.10/dist-packages (from openai-whisper==20231117) (1.23.5)\n",
            "Requirement already satisfied: torch in /usr/local/lib/python3.10/dist-packages (from openai-whisper==20231117) (2.1.0+cu121)\n",
            "Requirement already satisfied: tqdm in /usr/local/lib/python3.10/dist-packages (from openai-whisper==20231117) (4.66.1)\n",
            "Requirement already satisfied: more-itertools in /usr/local/lib/python3.10/dist-packages (from openai-whisper==20231117) (10.1.0)\n",
            "Collecting tiktoken (from openai-whisper==20231117)\n",
            "  Downloading tiktoken-0.5.2-cp310-cp310-manylinux_2_17_x86_64.manylinux2014_x86_64.whl (2.0 MB)\n",
            "\u001b[2K     \u001b[90m━━━━━━━━━━━━━━━━━━━━━━━━━━━━━━━━━━━━━━━━\u001b[0m \u001b[32m2.0/2.0 MB\u001b[0m \u001b[31m12.8 MB/s\u001b[0m eta \u001b[36m0:00:00\u001b[0m\n",
            "\u001b[?25hRequirement already satisfied: triton<3,>=2.0.0 in /usr/local/lib/python3.10/dist-packages (from openai-whisper==20231117) (2.1.0)\n",
            "Requirement already satisfied: filelock in /usr/local/lib/python3.10/dist-packages (from triton<3,>=2.0.0->openai-whisper==20231117) (3.13.1)\n",
            "Requirement already satisfied: llvmlite<0.42,>=0.41.0dev0 in /usr/local/lib/python3.10/dist-packages (from numba->openai-whisper==20231117) (0.41.1)\n",
            "Requirement already satisfied: regex>=2022.1.18 in /usr/local/lib/python3.10/dist-packages (from tiktoken->openai-whisper==20231117) (2023.6.3)\n",
            "Requirement already satisfied: requests>=2.26.0 in /usr/local/lib/python3.10/dist-packages (from tiktoken->openai-whisper==20231117) (2.31.0)\n",
            "Requirement already satisfied: typing-extensions in /usr/local/lib/python3.10/dist-packages (from torch->openai-whisper==20231117) (4.5.0)\n",
            "Requirement already satisfied: sympy in /usr/local/lib/python3.10/dist-packages (from torch->openai-whisper==20231117) (1.12)\n",
            "Requirement already satisfied: networkx in /usr/local/lib/python3.10/dist-packages (from torch->openai-whisper==20231117) (3.2.1)\n",
            "Requirement already satisfied: jinja2 in /usr/local/lib/python3.10/dist-packages (from torch->openai-whisper==20231117) (3.1.2)\n",
            "Requirement already satisfied: fsspec in /usr/local/lib/python3.10/dist-packages (from torch->openai-whisper==20231117) (2023.6.0)\n",
            "Requirement already satisfied: charset-normalizer<4,>=2 in /usr/local/lib/python3.10/dist-packages (from requests>=2.26.0->tiktoken->openai-whisper==20231117) (3.3.2)\n",
            "Requirement already satisfied: idna<4,>=2.5 in /usr/local/lib/python3.10/dist-packages (from requests>=2.26.0->tiktoken->openai-whisper==20231117) (3.6)\n",
            "Requirement already satisfied: urllib3<3,>=1.21.1 in /usr/local/lib/python3.10/dist-packages (from requests>=2.26.0->tiktoken->openai-whisper==20231117) (2.0.7)\n",
            "Requirement already satisfied: certifi>=2017.4.17 in /usr/local/lib/python3.10/dist-packages (from requests>=2.26.0->tiktoken->openai-whisper==20231117) (2023.11.17)\n",
            "Requirement already satisfied: MarkupSafe>=2.0 in /usr/local/lib/python3.10/dist-packages (from jinja2->torch->openai-whisper==20231117) (2.1.3)\n",
            "Requirement already satisfied: mpmath>=0.19 in /usr/local/lib/python3.10/dist-packages (from sympy->torch->openai-whisper==20231117) (1.3.0)\n",
            "Building wheels for collected packages: openai-whisper\n",
            "  Building wheel for openai-whisper (pyproject.toml) ... \u001b[?25l\u001b[?25hdone\n",
            "  Created wheel for openai-whisper: filename=openai_whisper-20231117-py3-none-any.whl size=801404 sha256=a817c4288812a61a9bf39ef32d58d7a93695226bbf33d150368de259e3b5814c\n",
            "  Stored in directory: /tmp/pip-ephem-wheel-cache-u9blbxwo/wheels/8b/6c/d0/622666868c179f156cf595c8b6f06f88bc5d80c4b31dccaa03\n",
            "Successfully built openai-whisper\n",
            "Installing collected packages: tiktoken, openai-whisper\n",
            "\u001b[31mERROR: pip's dependency resolver does not currently take into account all the packages that are installed. This behaviour is the source of the following dependency conflicts.\n",
            "llmx 0.0.15a0 requires cohere, which is not installed.\n",
            "llmx 0.0.15a0 requires openai, which is not installed.\u001b[0m\u001b[31m\n",
            "\u001b[0mSuccessfully installed openai-whisper-20231117 tiktoken-0.5.2\n"
          ]
        }
      ],
      "source": [
        "# downloading data\n",
        "from google.colab import drive\n",
        "import zipfile\n",
        "\n",
        "# saving data\n",
        "import csv\n",
        "\n",
        "# some basics\n",
        "import pandas as pd\n",
        "import numpy as np\n",
        "from glob import glob\n",
        "import matplotlib.pyplot as plt\n",
        "import os\n",
        "\n",
        "# for sound processing\n",
        "!pip install librosa\n",
        "import librosa\n",
        "import librosa.display\n",
        "!pip install soundfile\n",
        "import soundfile as sf\n",
        "from IPython.display import Audio\n",
        "\n",
        "# whisper\n",
        "!pip install git+https://github.com/openai/whisper.git\n",
        "import whisper"
      ]
    },
    {
      "cell_type": "markdown",
      "metadata": {
        "id": "L5ebywr1hCWq"
      },
      "source": [
        "## DOWNLOADING DATA"
      ]
    },
    {
      "cell_type": "code",
      "execution_count": null,
      "metadata": {
        "colab": {
          "base_uri": "https://localhost:8080/"
        },
        "id": "pbq4gSGkWKKt",
        "outputId": "9263f618-f878-4fc8-9324-748425e133c0"
      },
      "outputs": [
        {
          "output_type": "stream",
          "name": "stdout",
          "text": [
            "Mounted at /content/drive\n"
          ]
        }
      ],
      "source": [
        "drive.mount('/content/drive')"
      ]
    },
    {
      "cell_type": "markdown",
      "metadata": {
        "id": "eNbEsRnGhHdt"
      },
      "source": [
        "### ANDROID"
      ]
    },
    {
      "cell_type": "markdown",
      "metadata": {
        "id": "4GaWkXs4VVZy"
      },
      "source": [
        "ANDROID DATASET (preprocessed, from google drive):\n",
        "\n",
        "reading_hc + interview_hc -> health control, non-depresed\n",
        "\n",
        "reading_pt + interview_pt -> patients, depressed\n",
        "\n",
        "all files have the same length"
      ]
    },
    {
      "cell_type": "code",
      "execution_count": null,
      "metadata": {
        "id": "fAz6pxaHVykW",
        "colab": {
          "base_uri": "https://localhost:8080/"
        },
        "outputId": "8648b659-d3b5-4627-c9d8-3a3760197b73"
      },
      "outputs": [
        {
          "output_type": "stream",
          "name": "stdout",
          "text": [
            "Downloading...\n",
            "From: https://drive.google.com/uc?id=1OQ87c6vEKkTuLu2Z3jYz0P6-pvCytojz\n",
            "To: /content/android_segmented_5s.zip\n",
            "100% 757M/757M [00:11<00:00, 67.5MB/s]\n"
          ]
        }
      ],
      "source": [
        "!gdown 'https://drive.google.com/uc?id=1OQ87c6vEKkTuLu2Z3jYz0P6-pvCytojz'"
      ]
    },
    {
      "cell_type": "code",
      "execution_count": null,
      "metadata": {
        "id": "WYHeDVEWW5ia"
      },
      "outputs": [],
      "source": [
        "with zipfile.ZipFile('/content/android_segmented_5s.zip', 'r') as zip_ref:\n",
        "    zip_ref.extractall('/content/android_dataset')"
      ]
    },
    {
      "cell_type": "code",
      "execution_count": null,
      "metadata": {
        "id": "7wT8T0zOC003"
      },
      "outputs": [],
      "source": [
        "# paths to folders with data (the folder structure is not 100% straightforward, so maybe will be useful)\n",
        "android_interview_depressed_path = '/content/android_dataset/interview_pt/kaggle/working/segmented_files/interview_pt/'\n",
        "android_reading_depressed_path = '/content/android_dataset/reading_pt/'\n",
        "android_interview_healthy_path = '/content/android_dataset/interview_hc/'\n",
        "android_reading_healthy_path = '/content/android_dataset/reading_hc/'"
      ]
    },
    {
      "cell_type": "code",
      "execution_count": null,
      "metadata": {
        "id": "R3cA-G_1C3-E",
        "colab": {
          "base_uri": "https://localhost:8080/"
        },
        "outputId": "cd8667ec-648a-4a41-e8b9-b783f5f17463"
      },
      "outputs": [
        {
          "output_type": "stream",
          "name": "stdout",
          "text": [
            "android_interview_depressed_count:  2208\n",
            "android_reading_depressed_count:  553\n",
            "android_interview_healthy_count:  2659\n",
            "android_reading_healthy_count:  479\n",
            "all samples:  5899\n"
          ]
        }
      ],
      "source": [
        "android_interview_depressed_count = sum(1 for item in os.listdir(android_interview_depressed_path) if os.path.isfile(os.path.join(android_interview_depressed_path, item)))\n",
        "android_reading_depressed_count = sum(1 for item in os.listdir(android_reading_depressed_path) if os.path.isfile(os.path.join(android_reading_depressed_path, item)))\n",
        "android_interview_healthy_count = sum(1 for item in os.listdir(android_interview_healthy_path) if os.path.isfile(os.path.join(android_interview_healthy_path, item)))\n",
        "android_reading_healthy_count = sum(1 for item in os.listdir(android_reading_healthy_path) if os.path.isfile(os.path.join(android_reading_healthy_path, item)))\n",
        "\n",
        "print('android_interview_depressed_count: ', android_interview_depressed_count)\n",
        "print('android_reading_depressed_count: ', android_reading_depressed_count)\n",
        "print('android_interview_healthy_count: ', android_interview_healthy_count)\n",
        "print('android_reading_healthy_count: ', android_reading_healthy_count)\n",
        "\n",
        "android_count = android_interview_depressed_count + android_reading_depressed_count + android_interview_healthy_count + android_reading_healthy_count\n",
        "\n",
        "print('all samples: ', android_count)"
      ]
    },
    {
      "cell_type": "code",
      "execution_count": null,
      "metadata": {
        "id": "G2pRWcOCWEUg"
      },
      "outputs": [],
      "source": [
        "# random sample, just to check what's going on\n",
        "audio_path = '/content/android_dataset/interview_pt/kaggle/working/segmented_files/interview_pt/01_PM58_2_0'\n",
        "data, sr = sf.read(audio_path, channels=2, samplerate=44100, format='RAW', subtype='PCM_16')"
      ]
    },
    {
      "cell_type": "code",
      "execution_count": null,
      "metadata": {
        "id": "O0e2m6yxe7Gb",
        "colab": {
          "base_uri": "https://localhost:8080/"
        },
        "outputId": "de376e70-5694-4013-c553-e1a4f37dead5"
      },
      "outputs": [
        {
          "output_type": "stream",
          "name": "stdout",
          "text": [
            "duration of file:  0.9072789115646258\n"
          ]
        }
      ],
      "source": [
        "# if stereo convert to mono\n",
        "if data.shape[1] == 2:\n",
        "    data = librosa.to_mono(data.T)\n",
        "\n",
        "duration = librosa.get_duration(y=data, sr=sr)\n",
        "print(\"duration of file: \", duration)\n",
        "\n",
        "# I've testes the duration of a few random files, and it is always the same"
      ]
    },
    {
      "cell_type": "code",
      "execution_count": null,
      "metadata": {
        "id": "JWZnDApGgb1J",
        "colab": {
          "base_uri": "https://localhost:8080/"
        },
        "outputId": "0a4779f2-e21e-48c7-aa98-c57b82062cdf"
      },
      "outputs": [
        {
          "output_type": "stream",
          "name": "stdout",
          "text": [
            "True\n"
          ]
        }
      ],
      "source": [
        "# check if recording is not silence (also done on a few random samples)\n",
        "frame_gains = np.abs(librosa.effects.preemphasis(data))\n",
        "silence_removed = any(frame_gains > 0)\n",
        "\n",
        "print(silence_removed)"
      ]
    },
    {
      "cell_type": "markdown",
      "metadata": {
        "id": "6wCXgMRNhSa9"
      },
      "source": [
        "## E_DAIC"
      ]
    },
    {
      "cell_type": "markdown",
      "metadata": {
        "id": "CnDsVISoiAW4"
      },
      "source": [
        "E_DAIC DATASET (preprocessed, from drive)\n",
        "\n",
        "already splitted into train, test, validation sets\n",
        "\n",
        "labels in csv (https://drive.google.com/drive/folders/17jjD-cIZXS5EnqpvUNdosh6LCwDPYstX)\n",
        "\n",
        "labels meaning:  0 is non-depressed, 1 is depressed\n",
        "\n",
        "all files have the same length (also the same as the Android ones)"
      ]
    },
    {
      "cell_type": "code",
      "execution_count": null,
      "metadata": {
        "id": "ulxJw_srhVPc",
        "colab": {
          "base_uri": "https://localhost:8080/"
        },
        "outputId": "4a09891d-302a-4edb-c77f-e128f5d27bf4"
      },
      "outputs": [
        {
          "output_type": "stream",
          "name": "stdout",
          "text": [
            "Downloading...\n",
            "From: https://drive.google.com/uc?id=1PT9Iij7DJOB1s4i0T4gT3jZxpoZqSpzU\n",
            "To: /content/edaic_segmented_5second.zip\n",
            "100% 2.03G/2.03G [00:39<00:00, 51.4MB/s]\n"
          ]
        }
      ],
      "source": [
        "!gdown 'https://drive.google.com/uc?id=1PT9Iij7DJOB1s4i0T4gT3jZxpoZqSpzU'"
      ]
    },
    {
      "cell_type": "code",
      "execution_count": null,
      "metadata": {
        "id": "y6xgy179ixo5"
      },
      "outputs": [],
      "source": [
        "with zipfile.ZipFile('/content/edaic_segmented_5second.zip', 'r') as zip_ref:\n",
        "    zip_ref.extractall('/content/edaic_dataset')"
      ]
    },
    {
      "cell_type": "code",
      "execution_count": null,
      "metadata": {
        "id": "zIUhysVWDNmW"
      },
      "outputs": [],
      "source": [
        "# paths to folders with data\n",
        "edaic_train_path = '/content/edaic_dataset/edaic_segmented_5second/segmented_files/train'\n",
        "edaic_test_path = '/content/edaic_dataset/edaic_segmented_5second/segmented_files/test'\n",
        "edaic_validation_path = '/content/edaic_dataset/edaic_segmented_5second/segmented_files/val'"
      ]
    },
    {
      "cell_type": "code",
      "execution_count": null,
      "metadata": {
        "id": "8df2X5FBDj_I",
        "colab": {
          "base_uri": "https://localhost:8080/"
        },
        "outputId": "f9a55c7f-7ea0-48e0-c0d7-5af54428d6ed"
      },
      "outputs": [
        {
          "output_type": "stream",
          "name": "stdout",
          "text": [
            "edaic_train_count:  12547\n",
            "edaic_test_count:  2446\n",
            "edaic_validation_count:  2987\n",
            "all samples:  17980\n"
          ]
        }
      ],
      "source": [
        "edaic_train_count = sum(1 for item in os.listdir(edaic_train_path) if os.path.isfile(os.path.join(edaic_train_path, item)))\n",
        "edaic_test_count = sum(1 for item in os.listdir(edaic_test_path) if os.path.isfile(os.path.join(edaic_test_path, item)))\n",
        "edaic_validation_count = sum(1 for item in os.listdir(edaic_validation_path) if os.path.isfile(os.path.join(edaic_validation_path, item)))\n",
        "\n",
        "print('edaic_train_count: ', edaic_train_count)\n",
        "print('edaic_test_count: ', edaic_test_count)\n",
        "print('edaic_validation_count: ', edaic_validation_count)\n",
        "\n",
        "edaic_count = edaic_train_count + edaic_test_count+ edaic_validation_count\n",
        "\n",
        "print('all samples: ', edaic_count)"
      ]
    },
    {
      "cell_type": "code",
      "execution_count": null,
      "metadata": {
        "id": "96OyMI8SDQLC",
        "colab": {
          "base_uri": "https://localhost:8080/"
        },
        "outputId": "9eab2fd0-49e7-4ceb-d502-485678a86089"
      },
      "outputs": [
        {
          "output_type": "stream",
          "name": "stdout",
          "text": [
            "Downloading...\n",
            "From: https://drive.google.com/uc?id=13PDjse2cjgT9Ns4s7v21DRbHB4nA2EtC\n",
            "To: /content/edaic_validation_labels.csv\n",
            "100% 321/321 [00:00<00:00, 1.80MB/s]\n",
            "Downloading...\n",
            "From: https://drive.google.com/uc?id=1LAEwPM3XPcDV3dh2XaxJKyKNdilBGVNK\n",
            "To: /content/edaic_training_labels.csv\n",
            "100% 975/975 [00:00<00:00, 5.09MB/s]\n",
            "Downloading...\n",
            "From: https://drive.google.com/uc?id=1UQywlWldvqriiYDvNcj2iSq-fwvpIjA6\n",
            "To: /content/edaic_testing_labels.csv\n",
            "100% 339/339 [00:00<00:00, 1.64MB/s]\n"
          ]
        }
      ],
      "source": [
        "# downloading labels\n",
        "\n",
        "# validation\n",
        "!gdown 'https://drive.google.com/uc?id=13PDjse2cjgT9Ns4s7v21DRbHB4nA2EtC'\n",
        "\n",
        "# training\n",
        "!gdown 'https://drive.google.com/uc?id=1LAEwPM3XPcDV3dh2XaxJKyKNdilBGVNK'\n",
        "\n",
        "# test\n",
        "!gdown 'https://drive.google.com/uc?id=1UQywlWldvqriiYDvNcj2iSq-fwvpIjA6'"
      ]
    },
    {
      "cell_type": "code",
      "execution_count": null,
      "metadata": {
        "id": "wEfIrBR9DScv"
      },
      "outputs": [],
      "source": [
        "edaic_train_labels = pd.read_csv('/content/edaic_training_labels.csv')\n",
        "edaic_test_labels = pd.read_csv('/content/edaic_testing_labels.csv')\n",
        "edaic_validation_labels = pd.read_csv('/content/edaic_validation_labels.csv')"
      ]
    },
    {
      "cell_type": "code",
      "execution_count": null,
      "metadata": {
        "id": "OCN79yGpGSln",
        "colab": {
          "base_uri": "https://localhost:8080/",
          "height": 833
        },
        "outputId": "a9118263-8136-4018-9da9-8d2d700b3dda"
      },
      "outputs": [
        {
          "output_type": "execute_result",
          "data": {
            "text/plain": [
              "     ID  Value\n",
              "0   335      0\n",
              "1   424      0\n",
              "2   399      0\n",
              "3   364      0\n",
              "4   330      1\n",
              "5   489      0\n",
              "6   383      0\n",
              "7   410      1\n",
              "8   426      1\n",
              "9   341      0\n",
              "10  357      0\n",
              "11  654      0\n",
              "12  406      0\n",
              "13  429      0\n",
              "14  601      0\n",
              "15  324      0\n",
              "16  353      1\n",
              "17  372      1\n",
              "18  697      0\n",
              "19  396      0\n",
              "20  370      0\n",
              "21  404      0\n",
              "22  444      0\n",
              "23  329      0\n",
              "24  328      0"
            ],
            "text/html": [
              "\n",
              "  <div id=\"df-d5af7107-611b-487e-8343-2caafebe8e99\" class=\"colab-df-container\">\n",
              "    <div>\n",
              "<style scoped>\n",
              "    .dataframe tbody tr th:only-of-type {\n",
              "        vertical-align: middle;\n",
              "    }\n",
              "\n",
              "    .dataframe tbody tr th {\n",
              "        vertical-align: top;\n",
              "    }\n",
              "\n",
              "    .dataframe thead th {\n",
              "        text-align: right;\n",
              "    }\n",
              "</style>\n",
              "<table border=\"1\" class=\"dataframe\">\n",
              "  <thead>\n",
              "    <tr style=\"text-align: right;\">\n",
              "      <th></th>\n",
              "      <th>ID</th>\n",
              "      <th>Value</th>\n",
              "    </tr>\n",
              "  </thead>\n",
              "  <tbody>\n",
              "    <tr>\n",
              "      <th>0</th>\n",
              "      <td>335</td>\n",
              "      <td>0</td>\n",
              "    </tr>\n",
              "    <tr>\n",
              "      <th>1</th>\n",
              "      <td>424</td>\n",
              "      <td>0</td>\n",
              "    </tr>\n",
              "    <tr>\n",
              "      <th>2</th>\n",
              "      <td>399</td>\n",
              "      <td>0</td>\n",
              "    </tr>\n",
              "    <tr>\n",
              "      <th>3</th>\n",
              "      <td>364</td>\n",
              "      <td>0</td>\n",
              "    </tr>\n",
              "    <tr>\n",
              "      <th>4</th>\n",
              "      <td>330</td>\n",
              "      <td>1</td>\n",
              "    </tr>\n",
              "    <tr>\n",
              "      <th>5</th>\n",
              "      <td>489</td>\n",
              "      <td>0</td>\n",
              "    </tr>\n",
              "    <tr>\n",
              "      <th>6</th>\n",
              "      <td>383</td>\n",
              "      <td>0</td>\n",
              "    </tr>\n",
              "    <tr>\n",
              "      <th>7</th>\n",
              "      <td>410</td>\n",
              "      <td>1</td>\n",
              "    </tr>\n",
              "    <tr>\n",
              "      <th>8</th>\n",
              "      <td>426</td>\n",
              "      <td>1</td>\n",
              "    </tr>\n",
              "    <tr>\n",
              "      <th>9</th>\n",
              "      <td>341</td>\n",
              "      <td>0</td>\n",
              "    </tr>\n",
              "    <tr>\n",
              "      <th>10</th>\n",
              "      <td>357</td>\n",
              "      <td>0</td>\n",
              "    </tr>\n",
              "    <tr>\n",
              "      <th>11</th>\n",
              "      <td>654</td>\n",
              "      <td>0</td>\n",
              "    </tr>\n",
              "    <tr>\n",
              "      <th>12</th>\n",
              "      <td>406</td>\n",
              "      <td>0</td>\n",
              "    </tr>\n",
              "    <tr>\n",
              "      <th>13</th>\n",
              "      <td>429</td>\n",
              "      <td>0</td>\n",
              "    </tr>\n",
              "    <tr>\n",
              "      <th>14</th>\n",
              "      <td>601</td>\n",
              "      <td>0</td>\n",
              "    </tr>\n",
              "    <tr>\n",
              "      <th>15</th>\n",
              "      <td>324</td>\n",
              "      <td>0</td>\n",
              "    </tr>\n",
              "    <tr>\n",
              "      <th>16</th>\n",
              "      <td>353</td>\n",
              "      <td>1</td>\n",
              "    </tr>\n",
              "    <tr>\n",
              "      <th>17</th>\n",
              "      <td>372</td>\n",
              "      <td>1</td>\n",
              "    </tr>\n",
              "    <tr>\n",
              "      <th>18</th>\n",
              "      <td>697</td>\n",
              "      <td>0</td>\n",
              "    </tr>\n",
              "    <tr>\n",
              "      <th>19</th>\n",
              "      <td>396</td>\n",
              "      <td>0</td>\n",
              "    </tr>\n",
              "    <tr>\n",
              "      <th>20</th>\n",
              "      <td>370</td>\n",
              "      <td>0</td>\n",
              "    </tr>\n",
              "    <tr>\n",
              "      <th>21</th>\n",
              "      <td>404</td>\n",
              "      <td>0</td>\n",
              "    </tr>\n",
              "    <tr>\n",
              "      <th>22</th>\n",
              "      <td>444</td>\n",
              "      <td>0</td>\n",
              "    </tr>\n",
              "    <tr>\n",
              "      <th>23</th>\n",
              "      <td>329</td>\n",
              "      <td>0</td>\n",
              "    </tr>\n",
              "    <tr>\n",
              "      <th>24</th>\n",
              "      <td>328</td>\n",
              "      <td>0</td>\n",
              "    </tr>\n",
              "  </tbody>\n",
              "</table>\n",
              "</div>\n",
              "    <div class=\"colab-df-buttons\">\n",
              "\n",
              "  <div class=\"colab-df-container\">\n",
              "    <button class=\"colab-df-convert\" onclick=\"convertToInteractive('df-d5af7107-611b-487e-8343-2caafebe8e99')\"\n",
              "            title=\"Convert this dataframe to an interactive table.\"\n",
              "            style=\"display:none;\">\n",
              "\n",
              "  <svg xmlns=\"http://www.w3.org/2000/svg\" height=\"24px\" viewBox=\"0 -960 960 960\">\n",
              "    <path d=\"M120-120v-720h720v720H120Zm60-500h600v-160H180v160Zm220 220h160v-160H400v160Zm0 220h160v-160H400v160ZM180-400h160v-160H180v160Zm440 0h160v-160H620v160ZM180-180h160v-160H180v160Zm440 0h160v-160H620v160Z\"/>\n",
              "  </svg>\n",
              "    </button>\n",
              "\n",
              "  <style>\n",
              "    .colab-df-container {\n",
              "      display:flex;\n",
              "      gap: 12px;\n",
              "    }\n",
              "\n",
              "    .colab-df-convert {\n",
              "      background-color: #E8F0FE;\n",
              "      border: none;\n",
              "      border-radius: 50%;\n",
              "      cursor: pointer;\n",
              "      display: none;\n",
              "      fill: #1967D2;\n",
              "      height: 32px;\n",
              "      padding: 0 0 0 0;\n",
              "      width: 32px;\n",
              "    }\n",
              "\n",
              "    .colab-df-convert:hover {\n",
              "      background-color: #E2EBFA;\n",
              "      box-shadow: 0px 1px 2px rgba(60, 64, 67, 0.3), 0px 1px 3px 1px rgba(60, 64, 67, 0.15);\n",
              "      fill: #174EA6;\n",
              "    }\n",
              "\n",
              "    .colab-df-buttons div {\n",
              "      margin-bottom: 4px;\n",
              "    }\n",
              "\n",
              "    [theme=dark] .colab-df-convert {\n",
              "      background-color: #3B4455;\n",
              "      fill: #D2E3FC;\n",
              "    }\n",
              "\n",
              "    [theme=dark] .colab-df-convert:hover {\n",
              "      background-color: #434B5C;\n",
              "      box-shadow: 0px 1px 3px 1px rgba(0, 0, 0, 0.15);\n",
              "      filter: drop-shadow(0px 1px 2px rgba(0, 0, 0, 0.3));\n",
              "      fill: #FFFFFF;\n",
              "    }\n",
              "  </style>\n",
              "\n",
              "    <script>\n",
              "      const buttonEl =\n",
              "        document.querySelector('#df-d5af7107-611b-487e-8343-2caafebe8e99 button.colab-df-convert');\n",
              "      buttonEl.style.display =\n",
              "        google.colab.kernel.accessAllowed ? 'block' : 'none';\n",
              "\n",
              "      async function convertToInteractive(key) {\n",
              "        const element = document.querySelector('#df-d5af7107-611b-487e-8343-2caafebe8e99');\n",
              "        const dataTable =\n",
              "          await google.colab.kernel.invokeFunction('convertToInteractive',\n",
              "                                                    [key], {});\n",
              "        if (!dataTable) return;\n",
              "\n",
              "        const docLinkHtml = 'Like what you see? Visit the ' +\n",
              "          '<a target=\"_blank\" href=https://colab.research.google.com/notebooks/data_table.ipynb>data table notebook</a>'\n",
              "          + ' to learn more about interactive tables.';\n",
              "        element.innerHTML = '';\n",
              "        dataTable['output_type'] = 'display_data';\n",
              "        await google.colab.output.renderOutput(dataTable, element);\n",
              "        const docLink = document.createElement('div');\n",
              "        docLink.innerHTML = docLinkHtml;\n",
              "        element.appendChild(docLink);\n",
              "      }\n",
              "    </script>\n",
              "  </div>\n",
              "\n",
              "\n",
              "<div id=\"df-d3ba6f2b-32bc-40f1-8777-bdd7baf12aae\">\n",
              "  <button class=\"colab-df-quickchart\" onclick=\"quickchart('df-d3ba6f2b-32bc-40f1-8777-bdd7baf12aae')\"\n",
              "            title=\"Suggest charts\"\n",
              "            style=\"display:none;\">\n",
              "\n",
              "<svg xmlns=\"http://www.w3.org/2000/svg\" height=\"24px\"viewBox=\"0 0 24 24\"\n",
              "     width=\"24px\">\n",
              "    <g>\n",
              "        <path d=\"M19 3H5c-1.1 0-2 .9-2 2v14c0 1.1.9 2 2 2h14c1.1 0 2-.9 2-2V5c0-1.1-.9-2-2-2zM9 17H7v-7h2v7zm4 0h-2V7h2v10zm4 0h-2v-4h2v4z\"/>\n",
              "    </g>\n",
              "</svg>\n",
              "  </button>\n",
              "\n",
              "<style>\n",
              "  .colab-df-quickchart {\n",
              "      --bg-color: #E8F0FE;\n",
              "      --fill-color: #1967D2;\n",
              "      --hover-bg-color: #E2EBFA;\n",
              "      --hover-fill-color: #174EA6;\n",
              "      --disabled-fill-color: #AAA;\n",
              "      --disabled-bg-color: #DDD;\n",
              "  }\n",
              "\n",
              "  [theme=dark] .colab-df-quickchart {\n",
              "      --bg-color: #3B4455;\n",
              "      --fill-color: #D2E3FC;\n",
              "      --hover-bg-color: #434B5C;\n",
              "      --hover-fill-color: #FFFFFF;\n",
              "      --disabled-bg-color: #3B4455;\n",
              "      --disabled-fill-color: #666;\n",
              "  }\n",
              "\n",
              "  .colab-df-quickchart {\n",
              "    background-color: var(--bg-color);\n",
              "    border: none;\n",
              "    border-radius: 50%;\n",
              "    cursor: pointer;\n",
              "    display: none;\n",
              "    fill: var(--fill-color);\n",
              "    height: 32px;\n",
              "    padding: 0;\n",
              "    width: 32px;\n",
              "  }\n",
              "\n",
              "  .colab-df-quickchart:hover {\n",
              "    background-color: var(--hover-bg-color);\n",
              "    box-shadow: 0 1px 2px rgba(60, 64, 67, 0.3), 0 1px 3px 1px rgba(60, 64, 67, 0.15);\n",
              "    fill: var(--button-hover-fill-color);\n",
              "  }\n",
              "\n",
              "  .colab-df-quickchart-complete:disabled,\n",
              "  .colab-df-quickchart-complete:disabled:hover {\n",
              "    background-color: var(--disabled-bg-color);\n",
              "    fill: var(--disabled-fill-color);\n",
              "    box-shadow: none;\n",
              "  }\n",
              "\n",
              "  .colab-df-spinner {\n",
              "    border: 2px solid var(--fill-color);\n",
              "    border-color: transparent;\n",
              "    border-bottom-color: var(--fill-color);\n",
              "    animation:\n",
              "      spin 1s steps(1) infinite;\n",
              "  }\n",
              "\n",
              "  @keyframes spin {\n",
              "    0% {\n",
              "      border-color: transparent;\n",
              "      border-bottom-color: var(--fill-color);\n",
              "      border-left-color: var(--fill-color);\n",
              "    }\n",
              "    20% {\n",
              "      border-color: transparent;\n",
              "      border-left-color: var(--fill-color);\n",
              "      border-top-color: var(--fill-color);\n",
              "    }\n",
              "    30% {\n",
              "      border-color: transparent;\n",
              "      border-left-color: var(--fill-color);\n",
              "      border-top-color: var(--fill-color);\n",
              "      border-right-color: var(--fill-color);\n",
              "    }\n",
              "    40% {\n",
              "      border-color: transparent;\n",
              "      border-right-color: var(--fill-color);\n",
              "      border-top-color: var(--fill-color);\n",
              "    }\n",
              "    60% {\n",
              "      border-color: transparent;\n",
              "      border-right-color: var(--fill-color);\n",
              "    }\n",
              "    80% {\n",
              "      border-color: transparent;\n",
              "      border-right-color: var(--fill-color);\n",
              "      border-bottom-color: var(--fill-color);\n",
              "    }\n",
              "    90% {\n",
              "      border-color: transparent;\n",
              "      border-bottom-color: var(--fill-color);\n",
              "    }\n",
              "  }\n",
              "</style>\n",
              "\n",
              "  <script>\n",
              "    async function quickchart(key) {\n",
              "      const quickchartButtonEl =\n",
              "        document.querySelector('#' + key + ' button');\n",
              "      quickchartButtonEl.disabled = true;  // To prevent multiple clicks.\n",
              "      quickchartButtonEl.classList.add('colab-df-spinner');\n",
              "      try {\n",
              "        const charts = await google.colab.kernel.invokeFunction(\n",
              "            'suggestCharts', [key], {});\n",
              "      } catch (error) {\n",
              "        console.error('Error during call to suggestCharts:', error);\n",
              "      }\n",
              "      quickchartButtonEl.classList.remove('colab-df-spinner');\n",
              "      quickchartButtonEl.classList.add('colab-df-quickchart-complete');\n",
              "    }\n",
              "    (() => {\n",
              "      let quickchartButtonEl =\n",
              "        document.querySelector('#df-d3ba6f2b-32bc-40f1-8777-bdd7baf12aae button');\n",
              "      quickchartButtonEl.style.display =\n",
              "        google.colab.kernel.accessAllowed ? 'block' : 'none';\n",
              "    })();\n",
              "  </script>\n",
              "</div>\n",
              "    </div>\n",
              "  </div>\n"
            ]
          },
          "metadata": {},
          "execution_count": 16
        }
      ],
      "source": [
        "edaic_train_labels.head(25)"
      ]
    },
    {
      "cell_type": "code",
      "execution_count": null,
      "metadata": {
        "id": "C8f44w5ODYsp",
        "colab": {
          "base_uri": "https://localhost:8080/"
        },
        "outputId": "b03be619-32e1-40b7-812c-7f7b94454840"
      },
      "outputs": [
        {
          "output_type": "stream",
          "name": "stdout",
          "text": [
            "train:  161  test:  55  validation:  52\n",
            "all labels:  268\n"
          ]
        }
      ],
      "source": [
        "# numbers of samples in each set\n",
        "print(\"train: \", len(edaic_train_labels), \" test: \", len(edaic_test_labels), \" validation: \", len(edaic_validation_labels))\n",
        "print(\"all labels: \", len(edaic_train_labels) + len(edaic_test_labels) + len(edaic_validation_labels))"
      ]
    },
    {
      "cell_type": "markdown",
      "metadata": {
        "id": "9Cqy8tWUEwFS"
      },
      "source": [
        "The total number of labels differs from the number of all samples because there are multiple recordings of each individual (each person's recording is divided into many parts, with each part being identified by the individual's ID in the labels)"
      ]
    },
    {
      "cell_type": "code",
      "execution_count": null,
      "metadata": {
        "id": "tmEwIFTDFB4W"
      },
      "outputs": [],
      "source": [
        "# labeling each recording\n",
        "\n",
        "# train set\n",
        "edaic_train_labels_dict = edaic_train_labels.set_index('ID')['Value'].to_dict()\n",
        "edaic_train_recordings_names = os.listdir(edaic_train_path)\n",
        "edaic_train_recordings_labels = []\n",
        "for file in edaic_train_recordings_names:\n",
        "    file_id = file.split('_')[0]\n",
        "    if int(file_id) in edaic_train_labels_dict:\n",
        "        edaic_train_recordings_labels.append((file, edaic_train_labels_dict[int(file_id)]))\n",
        "    else:\n",
        "        edaic_train_recordings_labels.append((file, None))\n",
        "\n",
        "# test set\n",
        "edaic_test_labels_dict = edaic_test_labels.set_index('ID')['Value'].to_dict()\n",
        "edaic_test_recordings_names = os.listdir(edaic_test_path)\n",
        "edaic_test_recordings_labels = []\n",
        "for file in edaic_test_recordings_names:\n",
        "    file_id = file.split('_')[0]\n",
        "    if int(file_id) in edaic_test_labels_dict:\n",
        "        edaic_test_recordings_labels.append((file, edaic_test_labels_dict[int(file_id)]))\n",
        "    else:\n",
        "        edaic_test_recordings_labels.append((file, None))\n",
        "\n",
        "# validation set\n",
        "edaic_validation_labels_dict = edaic_validation_labels.set_index('ID')['Value'].to_dict()\n",
        "edaic_validation_recordings_names = os.listdir(edaic_validation_path)\n",
        "edaic_validation_recordings_labels = []\n",
        "\n",
        "for file in edaic_validation_recordings_names:\n",
        "    file_id = file.split('_')[0]\n",
        "    if int(file_id) in edaic_validation_labels_dict:\n",
        "        edaic_validation_recordings_labels.append((file, edaic_validation_labels_dict[int(file_id)]))\n",
        "    else:\n",
        "        edaic_validation_recordings_labels.append((file, None))"
      ]
    },
    {
      "cell_type": "code",
      "execution_count": null,
      "metadata": {
        "id": "z0-rCNw9jEEw"
      },
      "outputs": [],
      "source": [
        "audio_path = '/content/edaic_dataset/edaic_segmented_5second/segmented_files/test/600_AUDIO_0'\n",
        "data, sr = sf.read(audio_path, channels=2, samplerate=44100, format='RAW', subtype='PCM_16')"
      ]
    },
    {
      "cell_type": "code",
      "execution_count": null,
      "metadata": {
        "id": "5SOmLDSpjgpD",
        "colab": {
          "base_uri": "https://localhost:8080/"
        },
        "outputId": "24ae7d7d-325d-4ff0-d70d-a350990bebdf"
      },
      "outputs": [
        {
          "output_type": "stream",
          "name": "stdout",
          "text": [
            "duration of file:  0.9072789115646258\n"
          ]
        }
      ],
      "source": [
        "# if stereo convert to mono\n",
        "if data.shape[1] == 2:\n",
        "    data = librosa.to_mono(data.T)\n",
        "\n",
        "duration = librosa.get_duration(y=data, sr=sr)\n",
        "print(\"duration of file: \", duration)\n",
        "\n",
        "# I've testes the duration of a few random files, and it is always the same (also the same as for the android dataset)"
      ]
    },
    {
      "cell_type": "code",
      "execution_count": null,
      "metadata": {
        "id": "BkfhVa4PjiOX",
        "colab": {
          "base_uri": "https://localhost:8080/"
        },
        "outputId": "759361d9-0641-43f2-e862-9c8d8d796e23"
      },
      "outputs": [
        {
          "output_type": "stream",
          "name": "stdout",
          "text": [
            "True\n"
          ]
        }
      ],
      "source": [
        "# check if recording is not silence\n",
        "frame_gains = np.abs(librosa.effects.preemphasis(data))\n",
        "silence_removed = any(frame_gains > 0)\n",
        "\n",
        "print(silence_removed)"
      ]
    },
    {
      "cell_type": "code",
      "execution_count": null,
      "metadata": {
        "id": "EbcU75-nU1i6"
      },
      "outputs": [],
      "source": [
        "import librosa\n",
        "import torch\n",
        "import librosa.display\n",
        "import warnings\n",
        "warnings.filterwarnings(\"ignore\")\n",
        "# to play the audio files\n",
        "from IPython.display import Audio\n",
        "plt.style.use('seaborn-white')"
      ]
    },
    {
      "cell_type": "code",
      "execution_count": null,
      "metadata": {
        "id": "RTA8x6y5SUFp",
        "colab": {
          "base_uri": "https://localhost:8080/"
        },
        "outputId": "e62438a8-a5d5-4297-a190-f1994f782be0"
      },
      "outputs": [
        {
          "output_type": "stream",
          "name": "stdout",
          "text": [
            "cuda:0\n"
          ]
        }
      ],
      "source": [
        "device = torch.device(\"cuda:0\" if torch.cuda.is_available() else \"cpu\")\n",
        "print(device)"
      ]
    },
    {
      "cell_type": "code",
      "execution_count": null,
      "metadata": {
        "id": "jBos_5-HV8Cp",
        "colab": {
          "base_uri": "https://localhost:8080/",
          "height": 113,
          "referenced_widgets": [
            "c16af9397254494db8d3107a513f5239",
            "b26a5ffe88784dbebe6d5081881c6e40",
            "57df7847db3d408ba531b2a1cad2700f",
            "801281023ab749c9810c5beef3bbff1e",
            "882aaabb446d4f04a05119d2697518db",
            "4afba2847f9341efa34062fa1fc2f420",
            "0608e4af476b4f13940addec2b31530d",
            "529cf90d22e44bfaae78a8a9d14435b2",
            "0939a9dbe96d4991a226c265f424ee1c",
            "fef082d5ad43423aa7a6740483b21261",
            "4788fcfa01f84735a2a1017bdfb688c8",
            "ba2ae7d054804955ba0a0a976989d29a",
            "e52b3cc6335044d9b958cf9bc5ef06b6",
            "60bc5c9126f3433fb108bc9ccd8644da",
            "c5a9c1a900d84d24b4a6bd1d5fd4cf64",
            "5015398932354b129d3f3f9881554d0c",
            "a0d536a530b744bba82cc02ba5e2bcc2",
            "6321dd7a7d234e369fcbf34c23e82dbb",
            "4630a367224e4dc4b5f172fd0cb4ec71",
            "eb9caf49003044e2aa3c03e4dc171722",
            "9c05c348a6714ccdbaf616c20b741f86",
            "c847e1bdec664f52bdfb359cc7612d82",
            "e069e4fe60b44d26a7fdd45a583b193c",
            "cdf85a8dfe75475684f39733f93893c1",
            "70a3513a6bb64cef8f2d83794ba09fd6",
            "f9142d99c3f64206a3afd6eb10599ac1",
            "d50da635897740c88489f081a3fd51a7",
            "67884ccc274447d78d2c7b186ff89267",
            "182ddeff1b7745e68ec558b6a33e1e42",
            "28c2d9d7059f417394859193265df06e",
            "b42d7403638841ee8c0359600eea5785",
            "12c34c5aa7844640afe1ab677541d097",
            "147ef33516c3481e9893773107fe19e4"
          ]
        },
        "outputId": "439aad0d-c2ee-408a-e16d-fd4516f4931d"
      },
      "outputs": [
        {
          "output_type": "display_data",
          "data": {
            "text/plain": [
              "config.json:   0%|          | 0.00/1.98k [00:00<?, ?B/s]"
            ],
            "application/vnd.jupyter.widget-view+json": {
              "version_major": 2,
              "version_minor": 0,
              "model_id": "c16af9397254494db8d3107a513f5239"
            }
          },
          "metadata": {}
        },
        {
          "output_type": "display_data",
          "data": {
            "text/plain": [
              "model.safetensors:   0%|          | 0.00/290M [00:00<?, ?B/s]"
            ],
            "application/vnd.jupyter.widget-view+json": {
              "version_major": 2,
              "version_minor": 0,
              "model_id": "ba2ae7d054804955ba0a0a976989d29a"
            }
          },
          "metadata": {}
        },
        {
          "output_type": "display_data",
          "data": {
            "text/plain": [
              "preprocessor_config.json:   0%|          | 0.00/185k [00:00<?, ?B/s]"
            ],
            "application/vnd.jupyter.widget-view+json": {
              "version_major": 2,
              "version_minor": 0,
              "model_id": "e069e4fe60b44d26a7fdd45a583b193c"
            }
          },
          "metadata": {}
        }
      ],
      "source": [
        "# Whisper- Base\n",
        "from transformers import AutoFeatureExtractor, WhisperModel\n",
        "# from datasets import load_dataset\n",
        "\n",
        "model = WhisperModel.from_pretrained(\"openai/whisper-base\")\n",
        "feature_extractor = AutoFeatureExtractor.from_pretrained(\"openai/whisper-base\")\n",
        "model.to(device)\n",
        "import torchaudio\n",
        "def extract_features(path):\n",
        "    sample_rate = 16000\n",
        "    array, fs = torchaudio.load(path)\n",
        "    input = feature_extractor(array.squeeze(), sampling_rate = sample_rate, return_tensors = 'pt')\n",
        "    input = input.to(device)\n",
        "    input = input.input_features\n",
        "    with torch.no_grad():\n",
        "        outputs = model.encoder(input)\n",
        "    last_hidden_states = outputs.last_hidden_state.squeeze().mean(axis = 0).to(\"cpu\").numpy()\n",
        "    return last_hidden_states"
      ]
    },
    {
      "cell_type": "markdown",
      "metadata": {
        "id": "Z_xMu01O9Z5D"
      },
      "source": [
        "## Features extraction - WHISPER\n",
        "\n",
        "Extracting features from files, data saved as an array. 1st \"column\" is a file's name, second target value (0 - healthy, 1 - depressed), the rest are extracted features. Datasets are saved as csv files:\n",
        "\n",
        "- android_reading_healthy_whisper.csv\n",
        "- android_reading_depressed_whisper.csv\n",
        "- android_interview_healthy_whisper.csv\n",
        "- android_interview_depressed_whisper.csv"
      ]
    },
    {
      "cell_type": "markdown",
      "metadata": {
        "id": "B7CPcmWEMErl"
      },
      "source": [
        "## ANDROID"
      ]
    },
    {
      "cell_type": "code",
      "execution_count": null,
      "metadata": {
        "id": "F_BJUnqR72Py"
      },
      "outputs": [],
      "source": [
        "android_reading_healthy_files = [os.path.join(android_reading_healthy_path, file) for file in os.listdir(android_reading_healthy_path)]\n",
        "\n",
        "android_reading_healthy_features_whisper = []\n",
        "\n",
        "for file in android_reading_healthy_files:\n",
        "    features = extract_features(file)\n",
        "    file_name = os.path.basename(file)\n",
        "    android_reading_healthy_features_whisper.append([file_name, 0] + list(features))\n",
        "\n"
      ]
    },
    {
      "cell_type": "code",
      "execution_count": null,
      "metadata": {
        "id": "luIV7BEu-kmL"
      },
      "outputs": [],
      "source": [
        "output_csv_path = \"android_reading_healthy_whisper.csv\"\n",
        "\n",
        "with open(output_csv_path, 'w', newline='', encoding='utf-8') as file:\n",
        "    writer = csv.writer(file)\n",
        "\n",
        "    for row in android_reading_healthy_features_whisper:\n",
        "        writer.writerow(row)\n"
      ]
    },
    {
      "cell_type": "code",
      "execution_count": null,
      "metadata": {
        "id": "ytaym-W99C3D"
      },
      "outputs": [],
      "source": [
        "android_reading_depressed_files = [os.path.join(android_reading_depressed_path, file) for file in os.listdir(android_reading_depressed_path)]\n",
        "\n",
        "android_reading_depressed_features_whisper = []\n",
        "\n",
        "for file in android_reading_depressed_files:\n",
        "    features = extract_features(file)\n",
        "    file_name = os.path.basename(file)\n",
        "    android_reading_depressed_features_whisper.append([file_name, 1] + list(features))\n"
      ]
    },
    {
      "cell_type": "code",
      "execution_count": null,
      "metadata": {
        "id": "DdaEq77D-2bb"
      },
      "outputs": [],
      "source": [
        "#ignore when executing code\n",
        "output_csv_path = \"android_reading_depressed_whisper.csv\"\n",
        "\n",
        "with open(output_csv_path, 'w', newline='', encoding='utf-8') as file:\n",
        "    writer = csv.writer(file)\n",
        "\n",
        "    for row in android_reading_depressed_features_whisper:\n",
        "        writer.writerow(row)"
      ]
    },
    {
      "cell_type": "code",
      "execution_count": null,
      "metadata": {
        "id": "C8mYdXdIYki5"
      },
      "outputs": [],
      "source": [
        "android_interview_healthy_files = [os.path.join(android_interview_healthy_path, file) for file in os.listdir(android_interview_healthy_path)]\n",
        "\n",
        "android_interview_healthy_features_whisper = []\n",
        "\n",
        "for file in android_interview_healthy_files:\n",
        "    features = extract_features(file)\n",
        "    file_name = os.path.basename(file)\n",
        "    android_interview_healthy_features_whisper.append([file_name, 0] + list(features))"
      ]
    },
    {
      "cell_type": "code",
      "execution_count": null,
      "metadata": {
        "id": "g9Q1ShVH71bG"
      },
      "outputs": [],
      "source": [
        "#ignore when executing code\n",
        "output_csv_path = \"android_interview_healthy_whisper.csv\"\n",
        "\n",
        "with open(output_csv_path, 'w', newline='', encoding='utf-8') as file:\n",
        "    writer = csv.writer(file)\n",
        "\n",
        "    for row in android_interview_healthy_features_whisper:\n",
        "        writer.writerow(row)"
      ]
    },
    {
      "cell_type": "code",
      "execution_count": null,
      "metadata": {
        "id": "Zq_1prP6ZHr6"
      },
      "outputs": [],
      "source": [
        "android_interview_depressed_files = [os.path.join(android_interview_depressed_path, file) for file in os.listdir(android_interview_depressed_path)]\n",
        "\n",
        "android_interview_depressed_features_whisper = []\n",
        "\n",
        "for file in android_interview_depressed_files:\n",
        "    features = extract_features(file)\n",
        "    file_name = os.path.basename(file)\n",
        "    android_interview_depressed_features_whisper.append([file_name, 1] + list(features))\n"
      ]
    },
    {
      "cell_type": "code",
      "execution_count": null,
      "metadata": {
        "id": "wp1qTAxnAv-D"
      },
      "outputs": [],
      "source": [
        "#ignore when executing code\n",
        "output_csv_path = \"android_interview_depressed_whisper.csv\"\n",
        "\n",
        "with open(output_csv_path, 'w', newline='', encoding='utf-8') as file:\n",
        "    writer = csv.writer(file)\n",
        "\n",
        "    for row in android_interview_depressed_features_whisper:\n",
        "        writer.writerow(row)"
      ]
    },
    {
      "cell_type": "markdown",
      "metadata": {
        "id": "I415hihVMIul"
      },
      "source": [
        "## EDAIC"
      ]
    },
    {
      "cell_type": "code",
      "execution_count": null,
      "metadata": {
        "id": "GQqBrwbkaTu-"
      },
      "outputs": [],
      "source": [
        "def extract_features_with_labels(recordings_labels, base_path):\n",
        "    features_labels_dataset = []\n",
        "    for file, label in recordings_labels:\n",
        "        file_path = os.path.join(base_path, file)\n",
        "        features = extract_features(file_path)\n",
        "\n",
        "        features_labels_dataset.append([file, label] + list(features))\n",
        "    return features_labels_dataset\n",
        "\n",
        "\n",
        "edaic_train_features_whisper = extract_features_with_labels(edaic_train_recordings_labels, edaic_train_path)\n",
        "\n",
        "edaic_test_features_whisper = extract_features_with_labels(edaic_test_recordings_labels, edaic_test_path)\n",
        "\n",
        "edaic_validation_whisper = extract_features_with_labels(edaic_validation_recordings_labels, edaic_validation_path)\n"
      ]
    },
    {
      "cell_type": "code",
      "execution_count": null,
      "metadata": {
        "id": "K9UL2MIkdqpb"
      },
      "outputs": [],
      "source": [
        "#ignore when executing code\n",
        "output_csv_path = \"edaic_train_features_whisper.csv\"\n",
        "\n",
        "with open(output_csv_path, 'w', newline='', encoding='utf-8') as file:\n",
        "    writer = csv.writer(file)\n",
        "\n",
        "    for row in edaic_train_features_whisper:\n",
        "        writer.writerow(row)\n",
        "\n",
        "\n",
        "output_csv_path = \"edaic_test_features_whisper.csv\"\n",
        "\n",
        "with open(output_csv_path, 'w', newline='', encoding='utf-8') as file:\n",
        "    writer = csv.writer(file)\n",
        "\n",
        "    for row in edaic_test_features_whisper:\n",
        "        writer.writerow(row)\n",
        "\n",
        "\n",
        "output_csv_path = \"edaic_validation_features_whisper.csv\"\n",
        "\n",
        "with open(output_csv_path, 'w', newline='', encoding='utf-8') as file:\n",
        "    writer = csv.writer(file)\n",
        "\n",
        "    for row in edaic_validation_whisper:\n",
        "        writer.writerow(row)"
      ]
    },
    {
      "cell_type": "markdown",
      "source": [
        "Android baseline"
      ],
      "metadata": {
        "id": "Ll5jt6QNjINg"
      }
    },
    {
      "cell_type": "code",
      "source": [
        "#edaic_train_features_whisper[1]\n",
        "#android_reading_healthy_features_whisper[1]\n",
        "android_reading_healthy_features_whisper_df = pd.DataFrame(android_reading_healthy_features_whisper)\n",
        "android_reading_depressed_features_whisper_df = pd.DataFrame(android_reading_depressed_features_whisper)\n",
        "android_interview_healthy_features_whisper_df = pd.DataFrame(android_interview_healthy_features_whisper)\n",
        "android_interview_depressed_features_whisper_df = pd.DataFrame(android_interview_depressed_features_whisper)\n",
        "\n",
        "android = android_reading_healthy_features_whisper_df.append([ android_reading_depressed_features_whisper_df,android_interview_healthy_features_whisper_df,android_interview_depressed_features_whisper_df])\n",
        "android.reset_index(inplace = True)\n",
        "android = android.drop('index', axis=1)\n",
        "android\n",
        "\n",
        "\n"
      ],
      "metadata": {
        "colab": {
          "base_uri": "https://localhost:8080/",
          "height": 423
        },
        "id": "SWMoGUsVWNtA",
        "outputId": "5396ddb0-9742-4d0a-a38b-56cdc157574e"
      },
      "execution_count": null,
      "outputs": [
        {
          "output_type": "execute_result",
          "data": {
            "text/plain": [
              "               0    1         2         3         4         5         6    \\\n",
              "0      38_CM27_3_4    0 -0.325004 -0.773003  0.336232 -0.826059  0.200828   \n",
              "1      44_CF37_3_5    0 -0.323559 -0.755329  0.209577 -0.853966  0.209243   \n",
              "2      41_CM71_2_8    0 -0.316730 -0.754254  0.186741 -0.993816  0.174278   \n",
              "3      10_CF51_2_8    0 -0.251689 -0.507035  0.329449 -0.812264  0.245561   \n",
              "4      38_CM27_3_2    0 -0.385444 -0.721874  0.129210 -1.014975  0.111982   \n",
              "...            ...  ...       ...       ...       ...       ...       ...   \n",
              "5894  03_PF66_3_44    1 -0.334607 -0.785543  0.057590 -0.919029  0.169060   \n",
              "5895  26_PM54_3_37    1 -0.326652 -0.920170  0.069577 -0.910188  0.164791   \n",
              "5896   54_PF48_3_4    1 -0.412105 -0.870238  0.116980 -0.853752  0.319272   \n",
              "5897  22_PF40_3_18    1 -0.308228 -0.791172  0.221217 -0.936032  0.158140   \n",
              "5898   62_PF56_3_0    1 -0.166067 -0.530289  0.221124 -0.957136  0.161025   \n",
              "\n",
              "           7         8         9    ...       504       505       506  \\\n",
              "0     1.663229 -0.456727  0.036573  ... -0.180605 -0.337708 -0.404180   \n",
              "1     1.502434 -0.385898 -0.245348  ... -0.106871 -0.339001 -0.415959   \n",
              "2     1.494282 -0.547302  0.042305  ... -0.115851 -0.209866 -0.392283   \n",
              "3     1.537125 -0.494353 -0.107126  ... -0.235331 -0.199536 -0.453336   \n",
              "4     1.407310 -0.593221 -0.001678  ... -0.205863 -0.259184 -0.323361   \n",
              "...        ...       ...       ...  ...       ...       ...       ...   \n",
              "5894  1.408214 -0.606477 -0.110251  ... -0.089612 -0.291604 -0.416818   \n",
              "5895  1.423738 -0.465127 -0.045132  ... -0.151777 -0.498567 -0.325020   \n",
              "5896  1.507318 -0.529454 -0.161949  ... -0.176099 -0.358167 -0.458347   \n",
              "5897  1.376904 -0.450771 -0.199768  ... -0.116831 -0.425178 -0.404799   \n",
              "5898  1.447374 -0.543232 -0.158905  ... -0.159474 -0.229438 -0.478023   \n",
              "\n",
              "           507       508       509       510       511       512       513  \n",
              "0    -0.125415  0.475406 -0.407302  0.561507  0.133164 -0.709229  0.359743  \n",
              "1    -0.284999  0.334237 -0.568364  0.536553  0.201802 -0.622588  0.429866  \n",
              "2    -0.190826  0.583642 -0.446115  0.402427  0.183371 -0.567524  0.552812  \n",
              "3    -0.275341  0.271637 -0.371649  0.289454  0.106774 -0.372619  0.465858  \n",
              "4    -0.197869  0.380636 -0.510807  0.488610  0.217727 -0.565809  0.391385  \n",
              "...        ...       ...       ...       ...       ...       ...       ...  \n",
              "5894 -0.154152  0.514873 -0.417331  0.625526  0.244014 -0.647574  0.480804  \n",
              "5895 -0.156849  0.648424 -0.258233  0.632452  0.171573 -0.745716  0.365148  \n",
              "5896 -0.289491  0.492805 -0.536066  0.574084  0.235399 -0.660443  0.340653  \n",
              "5897 -0.238075  0.471417 -0.332177  0.438441  0.139048 -0.671979  0.407255  \n",
              "5898 -0.221370  0.374454 -0.406377  0.463276  0.121164 -0.462660  0.380401  \n",
              "\n",
              "[5899 rows x 514 columns]"
            ],
            "text/html": [
              "\n",
              "  <div id=\"df-788fb589-52e9-446b-8aec-fcd543bf10dc\" class=\"colab-df-container\">\n",
              "    <div>\n",
              "<style scoped>\n",
              "    .dataframe tbody tr th:only-of-type {\n",
              "        vertical-align: middle;\n",
              "    }\n",
              "\n",
              "    .dataframe tbody tr th {\n",
              "        vertical-align: top;\n",
              "    }\n",
              "\n",
              "    .dataframe thead th {\n",
              "        text-align: right;\n",
              "    }\n",
              "</style>\n",
              "<table border=\"1\" class=\"dataframe\">\n",
              "  <thead>\n",
              "    <tr style=\"text-align: right;\">\n",
              "      <th></th>\n",
              "      <th>0</th>\n",
              "      <th>1</th>\n",
              "      <th>2</th>\n",
              "      <th>3</th>\n",
              "      <th>4</th>\n",
              "      <th>5</th>\n",
              "      <th>6</th>\n",
              "      <th>7</th>\n",
              "      <th>8</th>\n",
              "      <th>9</th>\n",
              "      <th>...</th>\n",
              "      <th>504</th>\n",
              "      <th>505</th>\n",
              "      <th>506</th>\n",
              "      <th>507</th>\n",
              "      <th>508</th>\n",
              "      <th>509</th>\n",
              "      <th>510</th>\n",
              "      <th>511</th>\n",
              "      <th>512</th>\n",
              "      <th>513</th>\n",
              "    </tr>\n",
              "  </thead>\n",
              "  <tbody>\n",
              "    <tr>\n",
              "      <th>0</th>\n",
              "      <td>38_CM27_3_4</td>\n",
              "      <td>0</td>\n",
              "      <td>-0.325004</td>\n",
              "      <td>-0.773003</td>\n",
              "      <td>0.336232</td>\n",
              "      <td>-0.826059</td>\n",
              "      <td>0.200828</td>\n",
              "      <td>1.663229</td>\n",
              "      <td>-0.456727</td>\n",
              "      <td>0.036573</td>\n",
              "      <td>...</td>\n",
              "      <td>-0.180605</td>\n",
              "      <td>-0.337708</td>\n",
              "      <td>-0.404180</td>\n",
              "      <td>-0.125415</td>\n",
              "      <td>0.475406</td>\n",
              "      <td>-0.407302</td>\n",
              "      <td>0.561507</td>\n",
              "      <td>0.133164</td>\n",
              "      <td>-0.709229</td>\n",
              "      <td>0.359743</td>\n",
              "    </tr>\n",
              "    <tr>\n",
              "      <th>1</th>\n",
              "      <td>44_CF37_3_5</td>\n",
              "      <td>0</td>\n",
              "      <td>-0.323559</td>\n",
              "      <td>-0.755329</td>\n",
              "      <td>0.209577</td>\n",
              "      <td>-0.853966</td>\n",
              "      <td>0.209243</td>\n",
              "      <td>1.502434</td>\n",
              "      <td>-0.385898</td>\n",
              "      <td>-0.245348</td>\n",
              "      <td>...</td>\n",
              "      <td>-0.106871</td>\n",
              "      <td>-0.339001</td>\n",
              "      <td>-0.415959</td>\n",
              "      <td>-0.284999</td>\n",
              "      <td>0.334237</td>\n",
              "      <td>-0.568364</td>\n",
              "      <td>0.536553</td>\n",
              "      <td>0.201802</td>\n",
              "      <td>-0.622588</td>\n",
              "      <td>0.429866</td>\n",
              "    </tr>\n",
              "    <tr>\n",
              "      <th>2</th>\n",
              "      <td>41_CM71_2_8</td>\n",
              "      <td>0</td>\n",
              "      <td>-0.316730</td>\n",
              "      <td>-0.754254</td>\n",
              "      <td>0.186741</td>\n",
              "      <td>-0.993816</td>\n",
              "      <td>0.174278</td>\n",
              "      <td>1.494282</td>\n",
              "      <td>-0.547302</td>\n",
              "      <td>0.042305</td>\n",
              "      <td>...</td>\n",
              "      <td>-0.115851</td>\n",
              "      <td>-0.209866</td>\n",
              "      <td>-0.392283</td>\n",
              "      <td>-0.190826</td>\n",
              "      <td>0.583642</td>\n",
              "      <td>-0.446115</td>\n",
              "      <td>0.402427</td>\n",
              "      <td>0.183371</td>\n",
              "      <td>-0.567524</td>\n",
              "      <td>0.552812</td>\n",
              "    </tr>\n",
              "    <tr>\n",
              "      <th>3</th>\n",
              "      <td>10_CF51_2_8</td>\n",
              "      <td>0</td>\n",
              "      <td>-0.251689</td>\n",
              "      <td>-0.507035</td>\n",
              "      <td>0.329449</td>\n",
              "      <td>-0.812264</td>\n",
              "      <td>0.245561</td>\n",
              "      <td>1.537125</td>\n",
              "      <td>-0.494353</td>\n",
              "      <td>-0.107126</td>\n",
              "      <td>...</td>\n",
              "      <td>-0.235331</td>\n",
              "      <td>-0.199536</td>\n",
              "      <td>-0.453336</td>\n",
              "      <td>-0.275341</td>\n",
              "      <td>0.271637</td>\n",
              "      <td>-0.371649</td>\n",
              "      <td>0.289454</td>\n",
              "      <td>0.106774</td>\n",
              "      <td>-0.372619</td>\n",
              "      <td>0.465858</td>\n",
              "    </tr>\n",
              "    <tr>\n",
              "      <th>4</th>\n",
              "      <td>38_CM27_3_2</td>\n",
              "      <td>0</td>\n",
              "      <td>-0.385444</td>\n",
              "      <td>-0.721874</td>\n",
              "      <td>0.129210</td>\n",
              "      <td>-1.014975</td>\n",
              "      <td>0.111982</td>\n",
              "      <td>1.407310</td>\n",
              "      <td>-0.593221</td>\n",
              "      <td>-0.001678</td>\n",
              "      <td>...</td>\n",
              "      <td>-0.205863</td>\n",
              "      <td>-0.259184</td>\n",
              "      <td>-0.323361</td>\n",
              "      <td>-0.197869</td>\n",
              "      <td>0.380636</td>\n",
              "      <td>-0.510807</td>\n",
              "      <td>0.488610</td>\n",
              "      <td>0.217727</td>\n",
              "      <td>-0.565809</td>\n",
              "      <td>0.391385</td>\n",
              "    </tr>\n",
              "    <tr>\n",
              "      <th>...</th>\n",
              "      <td>...</td>\n",
              "      <td>...</td>\n",
              "      <td>...</td>\n",
              "      <td>...</td>\n",
              "      <td>...</td>\n",
              "      <td>...</td>\n",
              "      <td>...</td>\n",
              "      <td>...</td>\n",
              "      <td>...</td>\n",
              "      <td>...</td>\n",
              "      <td>...</td>\n",
              "      <td>...</td>\n",
              "      <td>...</td>\n",
              "      <td>...</td>\n",
              "      <td>...</td>\n",
              "      <td>...</td>\n",
              "      <td>...</td>\n",
              "      <td>...</td>\n",
              "      <td>...</td>\n",
              "      <td>...</td>\n",
              "      <td>...</td>\n",
              "    </tr>\n",
              "    <tr>\n",
              "      <th>5894</th>\n",
              "      <td>03_PF66_3_44</td>\n",
              "      <td>1</td>\n",
              "      <td>-0.334607</td>\n",
              "      <td>-0.785543</td>\n",
              "      <td>0.057590</td>\n",
              "      <td>-0.919029</td>\n",
              "      <td>0.169060</td>\n",
              "      <td>1.408214</td>\n",
              "      <td>-0.606477</td>\n",
              "      <td>-0.110251</td>\n",
              "      <td>...</td>\n",
              "      <td>-0.089612</td>\n",
              "      <td>-0.291604</td>\n",
              "      <td>-0.416818</td>\n",
              "      <td>-0.154152</td>\n",
              "      <td>0.514873</td>\n",
              "      <td>-0.417331</td>\n",
              "      <td>0.625526</td>\n",
              "      <td>0.244014</td>\n",
              "      <td>-0.647574</td>\n",
              "      <td>0.480804</td>\n",
              "    </tr>\n",
              "    <tr>\n",
              "      <th>5895</th>\n",
              "      <td>26_PM54_3_37</td>\n",
              "      <td>1</td>\n",
              "      <td>-0.326652</td>\n",
              "      <td>-0.920170</td>\n",
              "      <td>0.069577</td>\n",
              "      <td>-0.910188</td>\n",
              "      <td>0.164791</td>\n",
              "      <td>1.423738</td>\n",
              "      <td>-0.465127</td>\n",
              "      <td>-0.045132</td>\n",
              "      <td>...</td>\n",
              "      <td>-0.151777</td>\n",
              "      <td>-0.498567</td>\n",
              "      <td>-0.325020</td>\n",
              "      <td>-0.156849</td>\n",
              "      <td>0.648424</td>\n",
              "      <td>-0.258233</td>\n",
              "      <td>0.632452</td>\n",
              "      <td>0.171573</td>\n",
              "      <td>-0.745716</td>\n",
              "      <td>0.365148</td>\n",
              "    </tr>\n",
              "    <tr>\n",
              "      <th>5896</th>\n",
              "      <td>54_PF48_3_4</td>\n",
              "      <td>1</td>\n",
              "      <td>-0.412105</td>\n",
              "      <td>-0.870238</td>\n",
              "      <td>0.116980</td>\n",
              "      <td>-0.853752</td>\n",
              "      <td>0.319272</td>\n",
              "      <td>1.507318</td>\n",
              "      <td>-0.529454</td>\n",
              "      <td>-0.161949</td>\n",
              "      <td>...</td>\n",
              "      <td>-0.176099</td>\n",
              "      <td>-0.358167</td>\n",
              "      <td>-0.458347</td>\n",
              "      <td>-0.289491</td>\n",
              "      <td>0.492805</td>\n",
              "      <td>-0.536066</td>\n",
              "      <td>0.574084</td>\n",
              "      <td>0.235399</td>\n",
              "      <td>-0.660443</td>\n",
              "      <td>0.340653</td>\n",
              "    </tr>\n",
              "    <tr>\n",
              "      <th>5897</th>\n",
              "      <td>22_PF40_3_18</td>\n",
              "      <td>1</td>\n",
              "      <td>-0.308228</td>\n",
              "      <td>-0.791172</td>\n",
              "      <td>0.221217</td>\n",
              "      <td>-0.936032</td>\n",
              "      <td>0.158140</td>\n",
              "      <td>1.376904</td>\n",
              "      <td>-0.450771</td>\n",
              "      <td>-0.199768</td>\n",
              "      <td>...</td>\n",
              "      <td>-0.116831</td>\n",
              "      <td>-0.425178</td>\n",
              "      <td>-0.404799</td>\n",
              "      <td>-0.238075</td>\n",
              "      <td>0.471417</td>\n",
              "      <td>-0.332177</td>\n",
              "      <td>0.438441</td>\n",
              "      <td>0.139048</td>\n",
              "      <td>-0.671979</td>\n",
              "      <td>0.407255</td>\n",
              "    </tr>\n",
              "    <tr>\n",
              "      <th>5898</th>\n",
              "      <td>62_PF56_3_0</td>\n",
              "      <td>1</td>\n",
              "      <td>-0.166067</td>\n",
              "      <td>-0.530289</td>\n",
              "      <td>0.221124</td>\n",
              "      <td>-0.957136</td>\n",
              "      <td>0.161025</td>\n",
              "      <td>1.447374</td>\n",
              "      <td>-0.543232</td>\n",
              "      <td>-0.158905</td>\n",
              "      <td>...</td>\n",
              "      <td>-0.159474</td>\n",
              "      <td>-0.229438</td>\n",
              "      <td>-0.478023</td>\n",
              "      <td>-0.221370</td>\n",
              "      <td>0.374454</td>\n",
              "      <td>-0.406377</td>\n",
              "      <td>0.463276</td>\n",
              "      <td>0.121164</td>\n",
              "      <td>-0.462660</td>\n",
              "      <td>0.380401</td>\n",
              "    </tr>\n",
              "  </tbody>\n",
              "</table>\n",
              "<p>5899 rows × 514 columns</p>\n",
              "</div>\n",
              "    <div class=\"colab-df-buttons\">\n",
              "\n",
              "  <div class=\"colab-df-container\">\n",
              "    <button class=\"colab-df-convert\" onclick=\"convertToInteractive('df-788fb589-52e9-446b-8aec-fcd543bf10dc')\"\n",
              "            title=\"Convert this dataframe to an interactive table.\"\n",
              "            style=\"display:none;\">\n",
              "\n",
              "  <svg xmlns=\"http://www.w3.org/2000/svg\" height=\"24px\" viewBox=\"0 -960 960 960\">\n",
              "    <path d=\"M120-120v-720h720v720H120Zm60-500h600v-160H180v160Zm220 220h160v-160H400v160Zm0 220h160v-160H400v160ZM180-400h160v-160H180v160Zm440 0h160v-160H620v160ZM180-180h160v-160H180v160Zm440 0h160v-160H620v160Z\"/>\n",
              "  </svg>\n",
              "    </button>\n",
              "\n",
              "  <style>\n",
              "    .colab-df-container {\n",
              "      display:flex;\n",
              "      gap: 12px;\n",
              "    }\n",
              "\n",
              "    .colab-df-convert {\n",
              "      background-color: #E8F0FE;\n",
              "      border: none;\n",
              "      border-radius: 50%;\n",
              "      cursor: pointer;\n",
              "      display: none;\n",
              "      fill: #1967D2;\n",
              "      height: 32px;\n",
              "      padding: 0 0 0 0;\n",
              "      width: 32px;\n",
              "    }\n",
              "\n",
              "    .colab-df-convert:hover {\n",
              "      background-color: #E2EBFA;\n",
              "      box-shadow: 0px 1px 2px rgba(60, 64, 67, 0.3), 0px 1px 3px 1px rgba(60, 64, 67, 0.15);\n",
              "      fill: #174EA6;\n",
              "    }\n",
              "\n",
              "    .colab-df-buttons div {\n",
              "      margin-bottom: 4px;\n",
              "    }\n",
              "\n",
              "    [theme=dark] .colab-df-convert {\n",
              "      background-color: #3B4455;\n",
              "      fill: #D2E3FC;\n",
              "    }\n",
              "\n",
              "    [theme=dark] .colab-df-convert:hover {\n",
              "      background-color: #434B5C;\n",
              "      box-shadow: 0px 1px 3px 1px rgba(0, 0, 0, 0.15);\n",
              "      filter: drop-shadow(0px 1px 2px rgba(0, 0, 0, 0.3));\n",
              "      fill: #FFFFFF;\n",
              "    }\n",
              "  </style>\n",
              "\n",
              "    <script>\n",
              "      const buttonEl =\n",
              "        document.querySelector('#df-788fb589-52e9-446b-8aec-fcd543bf10dc button.colab-df-convert');\n",
              "      buttonEl.style.display =\n",
              "        google.colab.kernel.accessAllowed ? 'block' : 'none';\n",
              "\n",
              "      async function convertToInteractive(key) {\n",
              "        const element = document.querySelector('#df-788fb589-52e9-446b-8aec-fcd543bf10dc');\n",
              "        const dataTable =\n",
              "          await google.colab.kernel.invokeFunction('convertToInteractive',\n",
              "                                                    [key], {});\n",
              "        if (!dataTable) return;\n",
              "\n",
              "        const docLinkHtml = 'Like what you see? Visit the ' +\n",
              "          '<a target=\"_blank\" href=https://colab.research.google.com/notebooks/data_table.ipynb>data table notebook</a>'\n",
              "          + ' to learn more about interactive tables.';\n",
              "        element.innerHTML = '';\n",
              "        dataTable['output_type'] = 'display_data';\n",
              "        await google.colab.output.renderOutput(dataTable, element);\n",
              "        const docLink = document.createElement('div');\n",
              "        docLink.innerHTML = docLinkHtml;\n",
              "        element.appendChild(docLink);\n",
              "      }\n",
              "    </script>\n",
              "  </div>\n",
              "\n",
              "\n",
              "<div id=\"df-37c83221-4fbe-47e6-aafe-e9e8cacf0574\">\n",
              "  <button class=\"colab-df-quickchart\" onclick=\"quickchart('df-37c83221-4fbe-47e6-aafe-e9e8cacf0574')\"\n",
              "            title=\"Suggest charts\"\n",
              "            style=\"display:none;\">\n",
              "\n",
              "<svg xmlns=\"http://www.w3.org/2000/svg\" height=\"24px\"viewBox=\"0 0 24 24\"\n",
              "     width=\"24px\">\n",
              "    <g>\n",
              "        <path d=\"M19 3H5c-1.1 0-2 .9-2 2v14c0 1.1.9 2 2 2h14c1.1 0 2-.9 2-2V5c0-1.1-.9-2-2-2zM9 17H7v-7h2v7zm4 0h-2V7h2v10zm4 0h-2v-4h2v4z\"/>\n",
              "    </g>\n",
              "</svg>\n",
              "  </button>\n",
              "\n",
              "<style>\n",
              "  .colab-df-quickchart {\n",
              "      --bg-color: #E8F0FE;\n",
              "      --fill-color: #1967D2;\n",
              "      --hover-bg-color: #E2EBFA;\n",
              "      --hover-fill-color: #174EA6;\n",
              "      --disabled-fill-color: #AAA;\n",
              "      --disabled-bg-color: #DDD;\n",
              "  }\n",
              "\n",
              "  [theme=dark] .colab-df-quickchart {\n",
              "      --bg-color: #3B4455;\n",
              "      --fill-color: #D2E3FC;\n",
              "      --hover-bg-color: #434B5C;\n",
              "      --hover-fill-color: #FFFFFF;\n",
              "      --disabled-bg-color: #3B4455;\n",
              "      --disabled-fill-color: #666;\n",
              "  }\n",
              "\n",
              "  .colab-df-quickchart {\n",
              "    background-color: var(--bg-color);\n",
              "    border: none;\n",
              "    border-radius: 50%;\n",
              "    cursor: pointer;\n",
              "    display: none;\n",
              "    fill: var(--fill-color);\n",
              "    height: 32px;\n",
              "    padding: 0;\n",
              "    width: 32px;\n",
              "  }\n",
              "\n",
              "  .colab-df-quickchart:hover {\n",
              "    background-color: var(--hover-bg-color);\n",
              "    box-shadow: 0 1px 2px rgba(60, 64, 67, 0.3), 0 1px 3px 1px rgba(60, 64, 67, 0.15);\n",
              "    fill: var(--button-hover-fill-color);\n",
              "  }\n",
              "\n",
              "  .colab-df-quickchart-complete:disabled,\n",
              "  .colab-df-quickchart-complete:disabled:hover {\n",
              "    background-color: var(--disabled-bg-color);\n",
              "    fill: var(--disabled-fill-color);\n",
              "    box-shadow: none;\n",
              "  }\n",
              "\n",
              "  .colab-df-spinner {\n",
              "    border: 2px solid var(--fill-color);\n",
              "    border-color: transparent;\n",
              "    border-bottom-color: var(--fill-color);\n",
              "    animation:\n",
              "      spin 1s steps(1) infinite;\n",
              "  }\n",
              "\n",
              "  @keyframes spin {\n",
              "    0% {\n",
              "      border-color: transparent;\n",
              "      border-bottom-color: var(--fill-color);\n",
              "      border-left-color: var(--fill-color);\n",
              "    }\n",
              "    20% {\n",
              "      border-color: transparent;\n",
              "      border-left-color: var(--fill-color);\n",
              "      border-top-color: var(--fill-color);\n",
              "    }\n",
              "    30% {\n",
              "      border-color: transparent;\n",
              "      border-left-color: var(--fill-color);\n",
              "      border-top-color: var(--fill-color);\n",
              "      border-right-color: var(--fill-color);\n",
              "    }\n",
              "    40% {\n",
              "      border-color: transparent;\n",
              "      border-right-color: var(--fill-color);\n",
              "      border-top-color: var(--fill-color);\n",
              "    }\n",
              "    60% {\n",
              "      border-color: transparent;\n",
              "      border-right-color: var(--fill-color);\n",
              "    }\n",
              "    80% {\n",
              "      border-color: transparent;\n",
              "      border-right-color: var(--fill-color);\n",
              "      border-bottom-color: var(--fill-color);\n",
              "    }\n",
              "    90% {\n",
              "      border-color: transparent;\n",
              "      border-bottom-color: var(--fill-color);\n",
              "    }\n",
              "  }\n",
              "</style>\n",
              "\n",
              "  <script>\n",
              "    async function quickchart(key) {\n",
              "      const quickchartButtonEl =\n",
              "        document.querySelector('#' + key + ' button');\n",
              "      quickchartButtonEl.disabled = true;  // To prevent multiple clicks.\n",
              "      quickchartButtonEl.classList.add('colab-df-spinner');\n",
              "      try {\n",
              "        const charts = await google.colab.kernel.invokeFunction(\n",
              "            'suggestCharts', [key], {});\n",
              "      } catch (error) {\n",
              "        console.error('Error during call to suggestCharts:', error);\n",
              "      }\n",
              "      quickchartButtonEl.classList.remove('colab-df-spinner');\n",
              "      quickchartButtonEl.classList.add('colab-df-quickchart-complete');\n",
              "    }\n",
              "    (() => {\n",
              "      let quickchartButtonEl =\n",
              "        document.querySelector('#df-37c83221-4fbe-47e6-aafe-e9e8cacf0574 button');\n",
              "      quickchartButtonEl.style.display =\n",
              "        google.colab.kernel.accessAllowed ? 'block' : 'none';\n",
              "    })();\n",
              "  </script>\n",
              "</div>\n",
              "    </div>\n",
              "  </div>\n"
            ]
          },
          "metadata": {},
          "execution_count": 65
        }
      ]
    },
    {
      "cell_type": "markdown",
      "source": [
        "With Android we have one baseline: train/test"
      ],
      "metadata": {
        "id": "AWLe_SgJhG1k"
      }
    },
    {
      "cell_type": "code",
      "source": [
        "X = android.iloc[:,2:]\n",
        "Y = android[1]\n"
      ],
      "metadata": {
        "id": "r57T7ar0bewe"
      },
      "execution_count": null,
      "outputs": []
    },
    {
      "cell_type": "code",
      "source": [
        "from sklearn.model_selection import train_test_split\n",
        "X_train, X_test, y_train, y_test = train_test_split(X,Y, test_size=0.33, random_state=42)\n"
      ],
      "metadata": {
        "id": "8uxHuMIecHck"
      },
      "execution_count": null,
      "outputs": []
    },
    {
      "cell_type": "code",
      "source": [
        "from sklearn.model_selection import train_test_split\n",
        "from sklearn.datasets import load_breast_cancer\n",
        "from sklearn.metrics import accuracy_score\n",
        "from sklearn.ensemble import RandomForestClassifier\n",
        "from sklearn.tree import DecisionTreeClassifier\n",
        "from sklearn.svm import SVC\n",
        "from sklearn.neighbors import KNeighborsClassifier\n",
        "from sklearn.linear_model import LogisticRegression\n",
        "from sklearn.naive_bayes import GaussianNB\n",
        "from sklearn.ensemble import AdaBoostClassifier\n",
        "from sklearn.ensemble import GradientBoostingClassifier\n",
        "from sklearn.ensemble import BaggingClassifier\n",
        "from sklearn.ensemble import ExtraTreesClassifier\n",
        "from sklearn.ensemble import VotingClassifier\n",
        "from sklearn.ensemble import StackingClassifier\n",
        "from sklearn.neural_network import MLPClassifier\n",
        "\n",
        "classifier_accuracies = {}\n",
        "\n",
        "classifiers = {\n",
        "    \"Random Forest\": RandomForestClassifier(),\n",
        "    \"Decision Tree\": DecisionTreeClassifier(),\n",
        "    \"SVM\": SVC(),\n",
        "    \"K-Nearest Neighbors\": KNeighborsClassifier(),\n",
        "    \"Logistic Regression\": LogisticRegression(),\n",
        "    \"Naive Bayes\": GaussianNB(),\n",
        "    \"AdaBoost\": AdaBoostClassifier(),\n",
        "    \"Gradient Boosting\": GradientBoostingClassifier(),\n",
        "    \"Bagging\": BaggingClassifier(),\n",
        "    \"Extra Trees\": ExtraTreesClassifier(),\n",
        "    \"Voting\": VotingClassifier(estimators=[\n",
        "        ('lr', LogisticRegression()),\n",
        "        ('rf', RandomForestClassifier()),\n",
        "        ('svc', SVC())\n",
        "    ]),\n",
        "    \"Stacking\": StackingClassifier(estimators=[\n",
        "        ('lr', LogisticRegression()),\n",
        "        ('rf', RandomForestClassifier()),\n",
        "        ('svc', SVC())\n",
        "    ], final_estimator=RandomForestClassifier()),\n",
        "    \"MLP\": MLPClassifier(max_iter=1000)\n",
        "}\n",
        "\n",
        "for name, classifier in classifiers.items():\n",
        "    classifier.fit(X_train, y_train)\n",
        "    y_pred = classifier.predict(X_test)\n",
        "    classifier_accuracies[name] = accuracy_score(y_test, y_pred)\n",
        "    print(f\"{classifier.__class__.__name__} had an accuraccy of {classifier_accuracies[name]}\")\n",
        "\n",
        "print(classifier_accuracies)\n"
      ],
      "metadata": {
        "colab": {
          "base_uri": "https://localhost:8080/"
        },
        "id": "P6iPYlPMaBdi",
        "outputId": "d249e1f2-471b-4f72-c62c-59c0134c2667"
      },
      "execution_count": null,
      "outputs": [
        {
          "output_type": "stream",
          "name": "stdout",
          "text": [
            "RandomForestClassifier had an accuraccy of 0.7452491011813046\n",
            "DecisionTreeClassifier had an accuraccy of 0.6224961479198767\n",
            "SVC had an accuraccy of 0.7170005136106831\n",
            "KNeighborsClassifier had an accuraccy of 0.731381612737545\n",
            "LogisticRegression had an accuraccy of 0.844889573703133\n",
            "GaussianNB had an accuraccy of 0.6640986132511556\n",
            "AdaBoostClassifier had an accuraccy of 0.724191063174114\n",
            "GradientBoostingClassifier had an accuraccy of 0.7652799178222907\n",
            "BaggingClassifier had an accuraccy of 0.7015921931176169\n",
            "ExtraTreesClassifier had an accuraccy of 0.7416538263995891\n",
            "VotingClassifier had an accuraccy of 0.7632254750898819\n",
            "StackingClassifier had an accuraccy of 0.8376990241397021\n",
            "MLPClassifier had an accuraccy of 0.8397534668721109\n",
            "{'Random Forest': 0.7452491011813046, 'Decision Tree': 0.6224961479198767, 'SVM': 0.7170005136106831, 'K-Nearest Neighbors': 0.731381612737545, 'Logistic Regression': 0.844889573703133, 'Naive Bayes': 0.6640986132511556, 'AdaBoost': 0.724191063174114, 'Gradient Boosting': 0.7652799178222907, 'Bagging': 0.7015921931176169, 'Extra Trees': 0.7416538263995891, 'Voting': 0.7632254750898819, 'Stacking': 0.8376990241397021, 'MLP': 0.8397534668721109}\n"
          ]
        }
      ]
    },
    {
      "cell_type": "code",
      "source": [
        "!pip install hyperopt==0.2.5\n",
        "!pip install hpsklearn\n",
        "import hpsklearn\n",
        "dir(hpsklearn)\n",
        "\n"
      ],
      "metadata": {
        "id": "jpICamNddanP"
      },
      "execution_count": null,
      "outputs": []
    },
    {
      "cell_type": "markdown",
      "source": [
        "Android hyperopt"
      ],
      "metadata": {
        "id": "eYbn6XUghLVJ"
      }
    },
    {
      "cell_type": "code",
      "source": [
        "from hyperopt import tpe, hp\n",
        "from hpsklearn import (\n",
        "    HyperoptEstimator, any_preprocessing,\n",
        "    sklearn_DecisionTreeClassifier,\n",
        "    sklearn_AdaBoostClassifier,\n",
        "    sklearn_DecisionTreeClassifier,\n",
        "    sklearn_ExtraTreesClassifier,\n",
        "    sklearn_GradientBoostingClassifier,\n",
        "    sklearn_KNeighborsClassifier,\n",
        "    sklearn_OneVsOneClassifier,\n",
        "    sklearn_OneVsRestClassifier,\n",
        "    sklearn_OutputCodeClassifier,\n",
        "    sklearn_PassiveAggressiveClassifier,\n",
        "    sklearn_RandomForestClassifier,\n",
        "    sklearn_SGDClassifier,\n",
        "    sklearn_BernoulliRBM,\n",
        "    sklearn_ColumnKMeans,\n",
        "    sklearn_LinearSVC,\n",
        "    sklearn_MultinomialNB,\n",
        "    sklearn_XGBClassifier,\n",
        "    any_sparse_classifier,\n",
        "    any_classifier,\n",
        "    sklearn_SVC\n",
        ")\n",
        "\n",
        "classifiers =  hp.choice(name, [\n",
        "    sklearn_DecisionTreeClassifier(),\n",
        "    sklearn_KNeighborsClassifier(),\n",
        "    sklearn_PassiveAggressiveClassifier(),\n",
        "    sklearn_SGDClassifier(),\n",
        "    sklearn_XGBClassifier(),\n",
        "    sklearn_LinearSVC(),\n",
        "    sklearn_SVC(),\n",
        "    sklearn_DecisionTreeClassifier(),\n",
        "    sklearn_KNeighborsClassifier(),\n",
        "    sklearn_PassiveAggressiveClassifier(),\n",
        "    sklearn_SGDClassifier(),\n",
        "    sklearn_XGBClassifier()\n",
        "])\n",
        "\n",
        "classifier = HyperoptEstimator(classifier=classifiers,\n",
        "                              algo=tpe.suggest,\n",
        "                              max_evals=40,\n",
        "                              trial_timeout=120)\n",
        "\n",
        "classifier.fit(X_train.values, y_train.values)\n",
        "y_pred = classifier.predict(X_test.values)\n",
        "accuracy = accuracy_score(y_test.values, y_pred)\n",
        "\n",
        "print(accuracy)"
      ],
      "metadata": {
        "id": "7S3PEBHQenoo",
        "outputId": "748dfc04-7741-4c0c-a2bb-4bc04ad43cd4",
        "colab": {
          "base_uri": "https://localhost:8080/"
        }
      },
      "execution_count": null,
      "outputs": [
        {
          "output_type": "stream",
          "name": "stdout",
          "text": [
            "100%|██████████| 1/1 [00:15<00:00, 15.47s/trial, best loss: 0.22756005056890016]\n",
            "100%|██████████| 2/2 [00:00<00:00,  2.82trial/s, best loss: 0.22756005056890016]\n",
            "100%|██████████| 3/3 [00:11<00:00, 11.76s/trial, best loss: 0.22756005056890016]\n",
            "100%|██████████| 4/4 [00:00<00:00,  2.00trial/s, best loss: 0.22756005056890016]\n",
            "100%|██████████| 5/5 [00:00<00:00,  2.95trial/s, best loss: 0.1479140328697851]\n",
            "100%|██████████| 6/6 [00:02<00:00,  2.06s/trial, best loss: 0.1479140328697851]\n",
            "100%|██████████| 7/7 [00:00<00:00,  2.80trial/s, best loss: 0.1479140328697851]\n",
            "100%|██████████| 8/8 [00:00<00:00,  2.61trial/s, best loss: 0.1479140328697851]\n",
            "100%|██████████| 9/9 [00:01<00:00,  1.92s/trial, best loss: 0.1479140328697851]\n",
            "100%|██████████| 10/10 [00:11<00:00, 11.89s/trial, best loss: 0.1479140328697851]\n",
            "100%|██████████| 11/11 [00:00<00:00,  2.95trial/s, best loss: 0.1479140328697851]\n",
            "100%|██████████| 12/12 [00:01<00:00,  1.88s/trial, best loss: 0.1479140328697851]\n",
            "100%|██████████| 13/13 [00:00<00:00,  1.96trial/s, best loss: 0.1479140328697851]\n",
            "100%|██████████| 14/14 [00:00<00:00,  4.00trial/s, best loss: 0.1479140328697851]\n",
            "100%|██████████| 15/15 [00:00<00:00,  2.72trial/s, best loss: 0.1479140328697851]\n",
            "100%|██████████| 16/16 [00:00<00:00,  2.78trial/s, best loss: 0.1479140328697851]\n",
            "100%|██████████| 17/17 [00:00<00:00,  2.74trial/s, best loss: 0.1479140328697851]\n",
            "100%|██████████| 18/18 [00:04<00:00,  4.55s/trial, best loss: 0.1479140328697851]\n",
            "100%|██████████| 19/19 [00:00<00:00,  1.50trial/s, best loss: 0.1479140328697851]\n",
            "100%|██████████| 20/20 [00:02<00:00,  2.13s/trial, best loss: 0.1479140328697851]\n",
            "100%|██████████| 21/21 [00:00<00:00,  1.98trial/s, best loss: 0.1479140328697851]\n",
            "100%|██████████| 22/22 [00:01<00:00,  1.99s/trial, best loss: 0.1479140328697851]\n",
            "100%|██████████| 23/23 [00:01<00:00,  1.99s/trial, best loss: 0.1479140328697851]\n",
            "100%|██████████| 24/24 [00:00<00:00,  3.04trial/s, best loss: 0.1479140328697851]\n",
            "100%|██████████| 25/25 [00:00<00:00,  2.94trial/s, best loss: 0.1479140328697851]\n",
            "100%|██████████| 26/26 [00:00<00:00,  3.02trial/s, best loss: 0.1479140328697851]\n",
            "100%|██████████| 27/27 [00:00<00:00,  3.05trial/s, best loss: 0.1479140328697851]\n",
            "100%|██████████| 28/28 [00:00<00:00,  2.84trial/s, best loss: 0.1479140328697851]\n",
            "100%|██████████| 29/29 [00:00<00:00,  3.43trial/s, best loss: 0.1479140328697851]\n",
            "100%|██████████| 30/30 [00:11<00:00, 11.78s/trial, best loss: 0.1479140328697851]\n",
            "100%|██████████| 31/31 [00:00<00:00,  2.67trial/s, best loss: 0.1479140328697851]\n",
            "100%|██████████| 32/32 [00:17<00:00, 17.11s/trial, best loss: 0.1479140328697851]\n",
            "100%|██████████| 33/33 [00:01<00:00,  1.83s/trial, best loss: 0.1479140328697851]\n",
            "100%|██████████| 34/34 [00:00<00:00,  4.17trial/s, best loss: 0.1479140328697851]\n",
            "100%|██████████| 35/35 [00:00<00:00,  2.54trial/s, best loss: 0.1479140328697851]\n",
            "100%|██████████| 36/36 [00:00<00:00,  3.02trial/s, best loss: 0.1479140328697851]\n",
            "100%|██████████| 37/37 [00:15<00:00, 15.06s/trial, best loss: 0.1479140328697851]\n",
            "100%|██████████| 38/38 [00:00<00:00,  2.93trial/s, best loss: 0.1479140328697851]\n",
            "100%|██████████| 39/39 [00:00<00:00,  2.81trial/s, best loss: 0.1479140328697851]\n",
            "100%|██████████| 40/40 [00:00<00:00,  1.92trial/s, best loss: 0.1479140328697851]\n",
            "0.8628659476117103\n"
          ]
        }
      ]
    },
    {
      "cell_type": "markdown",
      "source": [
        "note: preprocessing made result worse"
      ],
      "metadata": {
        "id": "VyzbXMR7gwER"
      }
    },
    {
      "cell_type": "code",
      "source": [
        "classifier.best_model()"
      ],
      "metadata": {
        "id": "oqRCiEULdkZs",
        "outputId": "7c0a4f05-49b3-4340-8e14-58eec4e80658",
        "colab": {
          "base_uri": "https://localhost:8080/"
        }
      },
      "execution_count": null,
      "outputs": [
        {
          "output_type": "execute_result",
          "data": {
            "text/plain": [
              "{'learner': SGDClassifier(),\n",
              " 'preprocs': (StandardScaler(with_std=False),),\n",
              " 'ex_preprocs': ()}"
            ]
          },
          "metadata": {},
          "execution_count": 76
        }
      ]
    },
    {
      "cell_type": "code",
      "source": [
        "classifier._best_learner"
      ],
      "metadata": {
        "id": "_RxU_hFodmpK",
        "outputId": "17efe710-57cc-4c5d-e128-6519f516041d",
        "colab": {
          "base_uri": "https://localhost:8080/",
          "height": 74
        }
      },
      "execution_count": null,
      "outputs": [
        {
          "output_type": "execute_result",
          "data": {
            "text/plain": [
              "SGDClassifier()"
            ],
            "text/html": [
              "<style>#sk-container-id-4 {color: black;background-color: white;}#sk-container-id-4 pre{padding: 0;}#sk-container-id-4 div.sk-toggleable {background-color: white;}#sk-container-id-4 label.sk-toggleable__label {cursor: pointer;display: block;width: 100%;margin-bottom: 0;padding: 0.3em;box-sizing: border-box;text-align: center;}#sk-container-id-4 label.sk-toggleable__label-arrow:before {content: \"▸\";float: left;margin-right: 0.25em;color: #696969;}#sk-container-id-4 label.sk-toggleable__label-arrow:hover:before {color: black;}#sk-container-id-4 div.sk-estimator:hover label.sk-toggleable__label-arrow:before {color: black;}#sk-container-id-4 div.sk-toggleable__content {max-height: 0;max-width: 0;overflow: hidden;text-align: left;background-color: #f0f8ff;}#sk-container-id-4 div.sk-toggleable__content pre {margin: 0.2em;color: black;border-radius: 0.25em;background-color: #f0f8ff;}#sk-container-id-4 input.sk-toggleable__control:checked~div.sk-toggleable__content {max-height: 200px;max-width: 100%;overflow: auto;}#sk-container-id-4 input.sk-toggleable__control:checked~label.sk-toggleable__label-arrow:before {content: \"▾\";}#sk-container-id-4 div.sk-estimator input.sk-toggleable__control:checked~label.sk-toggleable__label {background-color: #d4ebff;}#sk-container-id-4 div.sk-label input.sk-toggleable__control:checked~label.sk-toggleable__label {background-color: #d4ebff;}#sk-container-id-4 input.sk-hidden--visually {border: 0;clip: rect(1px 1px 1px 1px);clip: rect(1px, 1px, 1px, 1px);height: 1px;margin: -1px;overflow: hidden;padding: 0;position: absolute;width: 1px;}#sk-container-id-4 div.sk-estimator {font-family: monospace;background-color: #f0f8ff;border: 1px dotted black;border-radius: 0.25em;box-sizing: border-box;margin-bottom: 0.5em;}#sk-container-id-4 div.sk-estimator:hover {background-color: #d4ebff;}#sk-container-id-4 div.sk-parallel-item::after {content: \"\";width: 100%;border-bottom: 1px solid gray;flex-grow: 1;}#sk-container-id-4 div.sk-label:hover label.sk-toggleable__label {background-color: #d4ebff;}#sk-container-id-4 div.sk-serial::before {content: \"\";position: absolute;border-left: 1px solid gray;box-sizing: border-box;top: 0;bottom: 0;left: 50%;z-index: 0;}#sk-container-id-4 div.sk-serial {display: flex;flex-direction: column;align-items: center;background-color: white;padding-right: 0.2em;padding-left: 0.2em;position: relative;}#sk-container-id-4 div.sk-item {position: relative;z-index: 1;}#sk-container-id-4 div.sk-parallel {display: flex;align-items: stretch;justify-content: center;background-color: white;position: relative;}#sk-container-id-4 div.sk-item::before, #sk-container-id-4 div.sk-parallel-item::before {content: \"\";position: absolute;border-left: 1px solid gray;box-sizing: border-box;top: 0;bottom: 0;left: 50%;z-index: -1;}#sk-container-id-4 div.sk-parallel-item {display: flex;flex-direction: column;z-index: 1;position: relative;background-color: white;}#sk-container-id-4 div.sk-parallel-item:first-child::after {align-self: flex-end;width: 50%;}#sk-container-id-4 div.sk-parallel-item:last-child::after {align-self: flex-start;width: 50%;}#sk-container-id-4 div.sk-parallel-item:only-child::after {width: 0;}#sk-container-id-4 div.sk-dashed-wrapped {border: 1px dashed gray;margin: 0 0.4em 0.5em 0.4em;box-sizing: border-box;padding-bottom: 0.4em;background-color: white;}#sk-container-id-4 div.sk-label label {font-family: monospace;font-weight: bold;display: inline-block;line-height: 1.2em;}#sk-container-id-4 div.sk-label-container {text-align: center;}#sk-container-id-4 div.sk-container {/* jupyter's `normalize.less` sets `[hidden] { display: none; }` but bootstrap.min.css set `[hidden] { display: none !important; }` so we also need the `!important` here to be able to override the default hidden behavior on the sphinx rendered scikit-learn.org. See: https://github.com/scikit-learn/scikit-learn/issues/21755 */display: inline-block !important;position: relative;}#sk-container-id-4 div.sk-text-repr-fallback {display: none;}</style><div id=\"sk-container-id-4\" class=\"sk-top-container\"><div class=\"sk-text-repr-fallback\"><pre>SGDClassifier()</pre><b>In a Jupyter environment, please rerun this cell to show the HTML representation or trust the notebook. <br />On GitHub, the HTML representation is unable to render, please try loading this page with nbviewer.org.</b></div><div class=\"sk-container\" hidden><div class=\"sk-item\"><div class=\"sk-estimator sk-toggleable\"><input class=\"sk-toggleable__control sk-hidden--visually\" id=\"sk-estimator-id-4\" type=\"checkbox\" checked><label for=\"sk-estimator-id-4\" class=\"sk-toggleable__label sk-toggleable__label-arrow\">SGDClassifier</label><div class=\"sk-toggleable__content\"><pre>SGDClassifier()</pre></div></div></div></div></div>"
            ]
          },
          "metadata": {},
          "execution_count": 77
        }
      ]
    },
    {
      "cell_type": "code",
      "source": [
        "plt.bar(range(len(classifier._best_learner.feature_importances_)), classifier._best_learner.feature_importances_)\n",
        "plt.xticks(range(len(X)), X, rotation=90)\n",
        "plt.show()"
      ],
      "metadata": {
        "id": "0W5bpd_udoM8"
      },
      "execution_count": null,
      "outputs": []
    },
    {
      "cell_type": "markdown",
      "source": [
        "Edaic baseline\n"
      ],
      "metadata": {
        "id": "JY73UoVXjK1c"
      }
    },
    {
      "cell_type": "code",
      "source": [
        "edaic_train_features_whisper_df = pd.DataFrame(edaic_train_features_whisper)"
      ],
      "metadata": {
        "id": "VTOXMKyZn8md"
      },
      "execution_count": null,
      "outputs": []
    },
    {
      "cell_type": "code",
      "source": [
        "edaic_test_features_whisper_df = pd.DataFrame(edaic_test_features_whisper)"
      ],
      "metadata": {
        "id": "sOqwg5zkoKTc"
      },
      "execution_count": null,
      "outputs": []
    },
    {
      "cell_type": "code",
      "source": [
        "edaic_validation_whisper_df = pd.DataFrame(edaic_validation_whisper)"
      ],
      "metadata": {
        "id": "CEZlsnndoO_E"
      },
      "execution_count": null,
      "outputs": []
    },
    {
      "cell_type": "markdown",
      "source": [
        "With E-daic, we have 2 baselines: train/test and train/val"
      ],
      "metadata": {
        "id": "hn3Q_kj_g7Tf"
      }
    },
    {
      "cell_type": "code",
      "source": [
        "X_train =edaic_train_features_whisper_df.iloc[:,2:]\n",
        "Y_train =edaic_train_features_whisper_df[1]\n",
        "\n",
        "X_test =edaic_test_features_whisper_df.iloc[:,2:]\n",
        "Y_test =edaic_test_features_whisper_df[1]\n",
        "\n",
        "X_vali = edaic_validation_whisper_df.iloc[:,2:]\n",
        "Y_vali = edaic_validation_whisper_df[1]"
      ],
      "metadata": {
        "id": "LoJOkHq4opSc"
      },
      "execution_count": null,
      "outputs": []
    },
    {
      "cell_type": "code",
      "source": [
        "classifier_accuracies = {}\n",
        "\n",
        "classifiers = {\n",
        "    \"Random Forest\": RandomForestClassifier(),\n",
        "    \"Decision Tree\": DecisionTreeClassifier(),\n",
        "    \"SVM\": SVC(),\n",
        "    \"K-Nearest Neighbors\": KNeighborsClassifier(),\n",
        "    \"Logistic Regression\": LogisticRegression(),\n",
        "    \"Naive Bayes\": GaussianNB(),\n",
        "    \"AdaBoost\": AdaBoostClassifier(),\n",
        "    \"Gradient Boosting\": GradientBoostingClassifier(),\n",
        "    \"Bagging\": BaggingClassifier(),\n",
        "    \"Extra Trees\": ExtraTreesClassifier(),\n",
        "    \"Voting\": VotingClassifier(estimators=[\n",
        "        ('lr', LogisticRegression()),\n",
        "        ('rf', RandomForestClassifier()),\n",
        "        ('svc', SVC())\n",
        "    ]),\n",
        "    \"Stacking\": StackingClassifier(estimators=[\n",
        "        ('lr', LogisticRegression()),\n",
        "        ('rf', RandomForestClassifier()),\n",
        "        ('svc', SVC())\n",
        "    ], final_estimator=RandomForestClassifier()),\n",
        "    \"MLP\": MLPClassifier(max_iter=1000)\n",
        "}\n",
        "\n",
        "for name, classifier in classifiers.items():\n",
        "    classifier.fit(X_train, Y_train)\n",
        "    y_pred = classifier.predict(X_test)\n",
        "    classifier_accuracies[name] = accuracy_score(Y_test, y_pred)\n",
        "    print(f\"{classifier.__class__.__name__} had an accuraccy of {classifier_accuracies[name]}\")\n",
        "\n",
        "print(classifier_accuracies)"
      ],
      "metadata": {
        "id": "00v0aJlJogjF",
        "outputId": "fa97066f-945c-444c-afde-0f79e029aa02",
        "colab": {
          "base_uri": "https://localhost:8080/"
        }
      },
      "execution_count": null,
      "outputs": [
        {
          "output_type": "stream",
          "name": "stdout",
          "text": [
            "RandomForestClassifier had an accuraccy of 0.7747342600163533\n",
            "DecisionTreeClassifier had an accuraccy of 0.6618969746524939\n",
            "SVC had an accuraccy of 0.7755519215044971\n",
            "KNeighborsClassifier had an accuraccy of 0.7334423548650858\n",
            "LogisticRegression had an accuraccy of 0.7694194603434178\n",
            "GaussianNB had an accuraccy of 0.42804578904333607\n",
            "AdaBoostClassifier had an accuraccy of 0.7641046606704824\n",
            "GradientBoostingClassifier had an accuraccy of 0.7751430907604252\n",
            "BaggingClassifier had an accuraccy of 0.7661488143908421\n",
            "ExtraTreesClassifier had an accuraccy of 0.7759607522485691\n",
            "VotingClassifier had an accuraccy of 0.7755519215044971\n",
            "StackingClassifier had an accuraccy of 0.7547015535568274\n",
            "MLPClassifier had an accuraccy of 0.6888798037612428\n",
            "{'Random Forest': 0.7747342600163533, 'Decision Tree': 0.6618969746524939, 'SVM': 0.7755519215044971, 'K-Nearest Neighbors': 0.7334423548650858, 'Logistic Regression': 0.7694194603434178, 'Naive Bayes': 0.42804578904333607, 'AdaBoost': 0.7641046606704824, 'Gradient Boosting': 0.7751430907604252, 'Bagging': 0.7661488143908421, 'Extra Trees': 0.7759607522485691, 'Voting': 0.7755519215044971, 'Stacking': 0.7547015535568274, 'MLP': 0.6888798037612428}\n"
          ]
        }
      ]
    },
    {
      "cell_type": "markdown",
      "source": [
        "E-daic train/val baseline"
      ],
      "metadata": {
        "id": "_dQKHkMRhQ2b"
      }
    },
    {
      "cell_type": "code",
      "source": [
        "for name, classifier in classifiers.items():\n",
        "    classifier.fit(X_train, Y_train)\n",
        "    y_pred = classifier.predict(X_vali)\n",
        "    classifier_accuracies[name] = accuracy_score(Y_vali, y_pred)\n",
        "    print(f\"{classifier.__class__.__name__} had an accuraccy of {classifier_accuracies[name]}\")\n",
        "\n",
        "print(classifier_accuracies)"
      ],
      "metadata": {
        "id": "1XmkVQZMuR6E",
        "outputId": "269e81e1-b536-49cb-d3a7-04ab5c466f80",
        "colab": {
          "base_uri": "https://localhost:8080/"
        }
      },
      "execution_count": null,
      "outputs": [
        {
          "output_type": "stream",
          "name": "stdout",
          "text": [
            "RandomForestClassifier had an accuraccy of 0.8101774355540676\n",
            "DecisionTreeClassifier had an accuraccy of 0.6906595246066287\n",
            "SVC had an accuraccy of 0.8105122196183462\n",
            "KNeighborsClassifier had an accuraccy of 0.7760294609976565\n",
            "LogisticRegression had an accuraccy of 0.8028121861399398\n",
            "GaussianNB had an accuraccy of 0.5038500167392033\n",
            "AdaBoostClassifier had an accuraccy of 0.7833947104117844\n",
            "GradientBoostingClassifier had an accuraccy of 0.8068295949112823\n",
            "BaggingClassifier had an accuraccy of 0.7937730164044191\n",
            "ExtraTreesClassifier had an accuraccy of 0.8098426514897891\n",
            "VotingClassifier had an accuraccy of 0.8101774355540676\n",
            "StackingClassifier had an accuraccy of 0.7820555741546702\n",
            "MLPClassifier had an accuraccy of 0.792433880147305\n",
            "{'Random Forest': 0.8101774355540676, 'Decision Tree': 0.6906595246066287, 'SVM': 0.8105122196183462, 'K-Nearest Neighbors': 0.7760294609976565, 'Logistic Regression': 0.8028121861399398, 'Naive Bayes': 0.5038500167392033, 'AdaBoost': 0.7833947104117844, 'Gradient Boosting': 0.8068295949112823, 'Bagging': 0.7937730164044191, 'Extra Trees': 0.8098426514897891, 'Voting': 0.8101774355540676, 'Stacking': 0.7820555741546702, 'MLP': 0.792433880147305}\n"
          ]
        }
      ]
    },
    {
      "cell_type": "code",
      "source": [
        "from hyperopt import tpe, hp\n",
        "from hpsklearn import (\n",
        "    HyperoptEstimator, any_preprocessing,\n",
        "    sklearn_DecisionTreeClassifier,\n",
        "    sklearn_AdaBoostClassifier,\n",
        "    sklearn_DecisionTreeClassifier,\n",
        "    sklearn_ExtraTreesClassifier,\n",
        "    sklearn_GradientBoostingClassifier,\n",
        "    sklearn_KNeighborsClassifier,\n",
        "    sklearn_OneVsOneClassifier,\n",
        "    sklearn_OneVsRestClassifier,\n",
        "    sklearn_OutputCodeClassifier,\n",
        "    sklearn_PassiveAggressiveClassifier,\n",
        "    sklearn_RandomForestClassifier,\n",
        "    sklearn_SGDClassifier,\n",
        "    sklearn_BernoulliRBM,\n",
        "    sklearn_ColumnKMeans,\n",
        "    sklearn_LinearSVC,\n",
        "    sklearn_MultinomialNB,\n",
        "    sklearn_XGBClassifier,\n",
        "    any_sparse_classifier,\n",
        "    any_classifier,\n",
        "    sklearn_SVC\n",
        ")\n",
        "\n",
        "classifiers =  hp.choice(name, [\n",
        "    sklearn_DecisionTreeClassifier(),\n",
        "    sklearn_KNeighborsClassifier(),\n",
        "    sklearn_PassiveAggressiveClassifier(),\n",
        "    sklearn_SGDClassifier(),\n",
        "    sklearn_XGBClassifier(),\n",
        "    sklearn_LinearSVC(),\n",
        "    sklearn_SVC(),\n",
        "    sklearn_DecisionTreeClassifier(),\n",
        "    sklearn_KNeighborsClassifier(),\n",
        "    sklearn_PassiveAggressiveClassifier(),\n",
        "    sklearn_SGDClassifier(),\n",
        "    sklearn_XGBClassifier()\n",
        "])\n",
        "\n",
        "\n",
        "classifier = HyperoptEstimator(classifier=classifiers,\n",
        "                              algo=tpe.suggest,\n",
        "                              max_evals=40,\n",
        "                              trial_timeout=120)\n",
        "\n",
        "classifier.fit(X_train.values, Y_train.values)\n",
        "y_pred = classifier.predict(X_vali.values)\n",
        "accuracy = accuracy_score(Y_vali.values, y_pred)\n",
        "\n",
        "print(accuracy)"
      ],
      "metadata": {
        "id": "Osv_uxsr1YGk",
        "outputId": "ecff0186-18a6-47bd-ee55-fc177357538d",
        "colab": {
          "base_uri": "https://localhost:8080/"
        }
      },
      "execution_count": null,
      "outputs": [
        {
          "output_type": "stream",
          "name": "stdout",
          "text": [
            "100%|██████████| 1/1 [00:02<00:00,  2.47s/trial, best loss: 0.6195219123505976]\n",
            "100%|██████████| 2/2 [00:01<00:00,  1.16s/trial, best loss: 0.17091633466135459]\n",
            "100%|██████████| 3/3 [00:01<00:00,  1.19s/trial, best loss: 0.17091633466135459]\n",
            "100%|██████████| 4/4 [00:12<00:00, 12.14s/trial, best loss: 0.17091633466135459]\n",
            "100%|██████████| 5/5 [00:18<00:00, 18.22s/trial, best loss: 0.17091633466135459]\n",
            "100%|██████████| 6/6 [00:23<00:00, 23.82s/trial, best loss: 0.17091633466135459]\n",
            "100%|██████████| 7/7 [00:01<00:00,  1.15s/trial, best loss: 0.17091633466135459]\n",
            "100%|██████████| 8/8 [00:01<00:00,  1.15s/trial, best loss: 0.17091633466135459]\n",
            "100%|██████████| 9/9 [00:00<00:00,  1.22trial/s, best loss: 0.17091633466135459]\n",
            "100%|██████████| 10/10 [00:11<00:00, 11.52s/trial, best loss: 0.17091633466135459]\n",
            "100%|██████████| 11/11 [00:02<00:00,  2.22s/trial, best loss: 0.17091633466135459]\n",
            "100%|██████████| 12/12 [00:18<00:00, 18.06s/trial, best loss: 0.17091633466135459]\n",
            "100%|██████████| 13/13 [00:00<00:00,  1.11trial/s, best loss: 0.17091633466135459]\n",
            "100%|██████████| 14/14 [00:17<00:00, 17.66s/trial, best loss: 0.17091633466135459]\n",
            "100%|██████████| 15/15 [00:00<00:00,  1.72trial/s, best loss: 0.17091633466135459]\n",
            "100%|██████████| 16/16 [00:01<00:00,  1.40s/trial, best loss: 0.17091633466135459]\n",
            "100%|██████████| 17/17 [00:00<00:00,  1.12trial/s, best loss: 0.17091633466135459]\n",
            "100%|██████████| 18/18 [00:01<00:00,  1.61s/trial, best loss: 0.17091633466135459]\n",
            "100%|██████████| 19/19 [00:10<00:00, 10.72s/trial, best loss: 0.17091633466135459]\n",
            "100%|██████████| 20/20 [00:01<00:00,  1.38s/trial, best loss: 0.17091633466135459]\n",
            "100%|██████████| 21/21 [00:19<00:00, 19.72s/trial, best loss: 0.17091633466135459]\n",
            "100%|██████████| 22/22 [00:15<00:00, 15.97s/trial, best loss: 0.17091633466135459]\n",
            "100%|██████████| 23/23 [00:00<00:00,  1.33trial/s, best loss: 0.17091633466135459]\n",
            "100%|██████████| 24/24 [00:01<00:00,  1.16s/trial, best loss: 0.17091633466135459]\n",
            "100%|██████████| 25/25 [00:01<00:00,  1.21s/trial, best loss: 0.17091633466135459]\n",
            "100%|██████████| 26/26 [00:01<00:00,  1.17s/trial, best loss: 0.17091633466135459]\n",
            "100%|██████████| 27/27 [00:01<00:00,  1.18s/trial, best loss: 0.17091633466135459]\n",
            "100%|██████████| 28/28 [00:01<00:00,  1.16s/trial, best loss: 0.17091633466135459]\n",
            "100%|██████████| 29/29 [00:15<00:00, 15.56s/trial, best loss: 0.17091633466135459]\n",
            "100%|██████████| 30/30 [00:01<00:00,  1.47s/trial, best loss: 0.17091633466135459]\n",
            "100%|██████████| 31/31 [00:00<00:00,  1.04trial/s, best loss: 0.17091633466135459]\n",
            "100%|██████████| 32/32 [00:11<00:00, 11.67s/trial, best loss: 0.17091633466135459]\n",
            "100%|██████████| 33/33 [00:19<00:00, 19.38s/trial, best loss: 0.17091633466135459]\n",
            "100%|██████████| 34/34 [00:26<00:00, 26.00s/trial, best loss: 0.17091633466135459]\n",
            "100%|██████████| 35/35 [00:00<00:00,  1.34trial/s, best loss: 0.17091633466135459]\n",
            "100%|██████████| 36/36 [00:01<00:00,  1.29s/trial, best loss: 0.17091633466135459]\n",
            "100%|██████████| 37/37 [00:01<00:00,  1.17s/trial, best loss: 0.17091633466135459]\n",
            "100%|██████████| 38/38 [00:11<00:00, 11.67s/trial, best loss: 0.17091633466135459]\n",
            "100%|██████████| 39/39 [00:06<00:00,  6.31s/trial, best loss: 0.17091633466135459]\n",
            "100%|██████████| 40/40 [00:01<00:00,  1.18s/trial, best loss: 0.17091633466135459]\n",
            "0.7787077335118848\n"
          ]
        }
      ]
    },
    {
      "cell_type": "code",
      "source": [
        "classifier.best_model()"
      ],
      "metadata": {
        "colab": {
          "base_uri": "https://localhost:8080/"
        },
        "id": "VX54bLwGK0Js",
        "outputId": "272ef766-7c2a-4fb0-eb96-3df5a45d05eb"
      },
      "execution_count": null,
      "outputs": [
        {
          "output_type": "execute_result",
          "data": {
            "text/plain": [
              "{'learner': SGDClassifier(),\n",
              " 'preprocs': (MinMaxScaler(feature_range=(0.0, 1.0)),),\n",
              " 'ex_preprocs': ()}"
            ]
          },
          "metadata": {},
          "execution_count": 85
        }
      ]
    },
    {
      "cell_type": "code",
      "source": [
        "classifier._best_learner"
      ],
      "metadata": {
        "colab": {
          "base_uri": "https://localhost:8080/",
          "height": 74
        },
        "id": "MKvRjHi-K0Fm",
        "outputId": "e7ec9ea1-0c64-4129-d182-5b842dd74031"
      },
      "execution_count": null,
      "outputs": [
        {
          "output_type": "execute_result",
          "data": {
            "text/plain": [
              "SGDClassifier()"
            ],
            "text/html": [
              "<style>#sk-container-id-5 {color: black;background-color: white;}#sk-container-id-5 pre{padding: 0;}#sk-container-id-5 div.sk-toggleable {background-color: white;}#sk-container-id-5 label.sk-toggleable__label {cursor: pointer;display: block;width: 100%;margin-bottom: 0;padding: 0.3em;box-sizing: border-box;text-align: center;}#sk-container-id-5 label.sk-toggleable__label-arrow:before {content: \"▸\";float: left;margin-right: 0.25em;color: #696969;}#sk-container-id-5 label.sk-toggleable__label-arrow:hover:before {color: black;}#sk-container-id-5 div.sk-estimator:hover label.sk-toggleable__label-arrow:before {color: black;}#sk-container-id-5 div.sk-toggleable__content {max-height: 0;max-width: 0;overflow: hidden;text-align: left;background-color: #f0f8ff;}#sk-container-id-5 div.sk-toggleable__content pre {margin: 0.2em;color: black;border-radius: 0.25em;background-color: #f0f8ff;}#sk-container-id-5 input.sk-toggleable__control:checked~div.sk-toggleable__content {max-height: 200px;max-width: 100%;overflow: auto;}#sk-container-id-5 input.sk-toggleable__control:checked~label.sk-toggleable__label-arrow:before {content: \"▾\";}#sk-container-id-5 div.sk-estimator input.sk-toggleable__control:checked~label.sk-toggleable__label {background-color: #d4ebff;}#sk-container-id-5 div.sk-label input.sk-toggleable__control:checked~label.sk-toggleable__label {background-color: #d4ebff;}#sk-container-id-5 input.sk-hidden--visually {border: 0;clip: rect(1px 1px 1px 1px);clip: rect(1px, 1px, 1px, 1px);height: 1px;margin: -1px;overflow: hidden;padding: 0;position: absolute;width: 1px;}#sk-container-id-5 div.sk-estimator {font-family: monospace;background-color: #f0f8ff;border: 1px dotted black;border-radius: 0.25em;box-sizing: border-box;margin-bottom: 0.5em;}#sk-container-id-5 div.sk-estimator:hover {background-color: #d4ebff;}#sk-container-id-5 div.sk-parallel-item::after {content: \"\";width: 100%;border-bottom: 1px solid gray;flex-grow: 1;}#sk-container-id-5 div.sk-label:hover label.sk-toggleable__label {background-color: #d4ebff;}#sk-container-id-5 div.sk-serial::before {content: \"\";position: absolute;border-left: 1px solid gray;box-sizing: border-box;top: 0;bottom: 0;left: 50%;z-index: 0;}#sk-container-id-5 div.sk-serial {display: flex;flex-direction: column;align-items: center;background-color: white;padding-right: 0.2em;padding-left: 0.2em;position: relative;}#sk-container-id-5 div.sk-item {position: relative;z-index: 1;}#sk-container-id-5 div.sk-parallel {display: flex;align-items: stretch;justify-content: center;background-color: white;position: relative;}#sk-container-id-5 div.sk-item::before, #sk-container-id-5 div.sk-parallel-item::before {content: \"\";position: absolute;border-left: 1px solid gray;box-sizing: border-box;top: 0;bottom: 0;left: 50%;z-index: -1;}#sk-container-id-5 div.sk-parallel-item {display: flex;flex-direction: column;z-index: 1;position: relative;background-color: white;}#sk-container-id-5 div.sk-parallel-item:first-child::after {align-self: flex-end;width: 50%;}#sk-container-id-5 div.sk-parallel-item:last-child::after {align-self: flex-start;width: 50%;}#sk-container-id-5 div.sk-parallel-item:only-child::after {width: 0;}#sk-container-id-5 div.sk-dashed-wrapped {border: 1px dashed gray;margin: 0 0.4em 0.5em 0.4em;box-sizing: border-box;padding-bottom: 0.4em;background-color: white;}#sk-container-id-5 div.sk-label label {font-family: monospace;font-weight: bold;display: inline-block;line-height: 1.2em;}#sk-container-id-5 div.sk-label-container {text-align: center;}#sk-container-id-5 div.sk-container {/* jupyter's `normalize.less` sets `[hidden] { display: none; }` but bootstrap.min.css set `[hidden] { display: none !important; }` so we also need the `!important` here to be able to override the default hidden behavior on the sphinx rendered scikit-learn.org. See: https://github.com/scikit-learn/scikit-learn/issues/21755 */display: inline-block !important;position: relative;}#sk-container-id-5 div.sk-text-repr-fallback {display: none;}</style><div id=\"sk-container-id-5\" class=\"sk-top-container\"><div class=\"sk-text-repr-fallback\"><pre>SGDClassifier()</pre><b>In a Jupyter environment, please rerun this cell to show the HTML representation or trust the notebook. <br />On GitHub, the HTML representation is unable to render, please try loading this page with nbviewer.org.</b></div><div class=\"sk-container\" hidden><div class=\"sk-item\"><div class=\"sk-estimator sk-toggleable\"><input class=\"sk-toggleable__control sk-hidden--visually\" id=\"sk-estimator-id-5\" type=\"checkbox\" checked><label for=\"sk-estimator-id-5\" class=\"sk-toggleable__label sk-toggleable__label-arrow\">SGDClassifier</label><div class=\"sk-toggleable__content\"><pre>SGDClassifier()</pre></div></div></div></div></div>"
            ]
          },
          "metadata": {},
          "execution_count": 86
        }
      ]
    }
  ],
  "metadata": {
    "accelerator": "GPU",
    "colab": {
      "provenance": []
    },
    "kernelspec": {
      "display_name": "Python 3",
      "name": "python3"
    },
    "language_info": {
      "name": "python"
    },
    "widgets": {
      "application/vnd.jupyter.widget-state+json": {
        "c16af9397254494db8d3107a513f5239": {
          "model_module": "@jupyter-widgets/controls",
          "model_name": "HBoxModel",
          "model_module_version": "1.5.0",
          "state": {
            "_dom_classes": [],
            "_model_module": "@jupyter-widgets/controls",
            "_model_module_version": "1.5.0",
            "_model_name": "HBoxModel",
            "_view_count": null,
            "_view_module": "@jupyter-widgets/controls",
            "_view_module_version": "1.5.0",
            "_view_name": "HBoxView",
            "box_style": "",
            "children": [
              "IPY_MODEL_b26a5ffe88784dbebe6d5081881c6e40",
              "IPY_MODEL_57df7847db3d408ba531b2a1cad2700f",
              "IPY_MODEL_801281023ab749c9810c5beef3bbff1e"
            ],
            "layout": "IPY_MODEL_882aaabb446d4f04a05119d2697518db"
          }
        },
        "b26a5ffe88784dbebe6d5081881c6e40": {
          "model_module": "@jupyter-widgets/controls",
          "model_name": "HTMLModel",
          "model_module_version": "1.5.0",
          "state": {
            "_dom_classes": [],
            "_model_module": "@jupyter-widgets/controls",
            "_model_module_version": "1.5.0",
            "_model_name": "HTMLModel",
            "_view_count": null,
            "_view_module": "@jupyter-widgets/controls",
            "_view_module_version": "1.5.0",
            "_view_name": "HTMLView",
            "description": "",
            "description_tooltip": null,
            "layout": "IPY_MODEL_4afba2847f9341efa34062fa1fc2f420",
            "placeholder": "​",
            "style": "IPY_MODEL_0608e4af476b4f13940addec2b31530d",
            "value": "config.json: 100%"
          }
        },
        "57df7847db3d408ba531b2a1cad2700f": {
          "model_module": "@jupyter-widgets/controls",
          "model_name": "FloatProgressModel",
          "model_module_version": "1.5.0",
          "state": {
            "_dom_classes": [],
            "_model_module": "@jupyter-widgets/controls",
            "_model_module_version": "1.5.0",
            "_model_name": "FloatProgressModel",
            "_view_count": null,
            "_view_module": "@jupyter-widgets/controls",
            "_view_module_version": "1.5.0",
            "_view_name": "ProgressView",
            "bar_style": "success",
            "description": "",
            "description_tooltip": null,
            "layout": "IPY_MODEL_529cf90d22e44bfaae78a8a9d14435b2",
            "max": 1983,
            "min": 0,
            "orientation": "horizontal",
            "style": "IPY_MODEL_0939a9dbe96d4991a226c265f424ee1c",
            "value": 1983
          }
        },
        "801281023ab749c9810c5beef3bbff1e": {
          "model_module": "@jupyter-widgets/controls",
          "model_name": "HTMLModel",
          "model_module_version": "1.5.0",
          "state": {
            "_dom_classes": [],
            "_model_module": "@jupyter-widgets/controls",
            "_model_module_version": "1.5.0",
            "_model_name": "HTMLModel",
            "_view_count": null,
            "_view_module": "@jupyter-widgets/controls",
            "_view_module_version": "1.5.0",
            "_view_name": "HTMLView",
            "description": "",
            "description_tooltip": null,
            "layout": "IPY_MODEL_fef082d5ad43423aa7a6740483b21261",
            "placeholder": "​",
            "style": "IPY_MODEL_4788fcfa01f84735a2a1017bdfb688c8",
            "value": " 1.98k/1.98k [00:00&lt;00:00, 48.8kB/s]"
          }
        },
        "882aaabb446d4f04a05119d2697518db": {
          "model_module": "@jupyter-widgets/base",
          "model_name": "LayoutModel",
          "model_module_version": "1.2.0",
          "state": {
            "_model_module": "@jupyter-widgets/base",
            "_model_module_version": "1.2.0",
            "_model_name": "LayoutModel",
            "_view_count": null,
            "_view_module": "@jupyter-widgets/base",
            "_view_module_version": "1.2.0",
            "_view_name": "LayoutView",
            "align_content": null,
            "align_items": null,
            "align_self": null,
            "border": null,
            "bottom": null,
            "display": null,
            "flex": null,
            "flex_flow": null,
            "grid_area": null,
            "grid_auto_columns": null,
            "grid_auto_flow": null,
            "grid_auto_rows": null,
            "grid_column": null,
            "grid_gap": null,
            "grid_row": null,
            "grid_template_areas": null,
            "grid_template_columns": null,
            "grid_template_rows": null,
            "height": null,
            "justify_content": null,
            "justify_items": null,
            "left": null,
            "margin": null,
            "max_height": null,
            "max_width": null,
            "min_height": null,
            "min_width": null,
            "object_fit": null,
            "object_position": null,
            "order": null,
            "overflow": null,
            "overflow_x": null,
            "overflow_y": null,
            "padding": null,
            "right": null,
            "top": null,
            "visibility": null,
            "width": null
          }
        },
        "4afba2847f9341efa34062fa1fc2f420": {
          "model_module": "@jupyter-widgets/base",
          "model_name": "LayoutModel",
          "model_module_version": "1.2.0",
          "state": {
            "_model_module": "@jupyter-widgets/base",
            "_model_module_version": "1.2.0",
            "_model_name": "LayoutModel",
            "_view_count": null,
            "_view_module": "@jupyter-widgets/base",
            "_view_module_version": "1.2.0",
            "_view_name": "LayoutView",
            "align_content": null,
            "align_items": null,
            "align_self": null,
            "border": null,
            "bottom": null,
            "display": null,
            "flex": null,
            "flex_flow": null,
            "grid_area": null,
            "grid_auto_columns": null,
            "grid_auto_flow": null,
            "grid_auto_rows": null,
            "grid_column": null,
            "grid_gap": null,
            "grid_row": null,
            "grid_template_areas": null,
            "grid_template_columns": null,
            "grid_template_rows": null,
            "height": null,
            "justify_content": null,
            "justify_items": null,
            "left": null,
            "margin": null,
            "max_height": null,
            "max_width": null,
            "min_height": null,
            "min_width": null,
            "object_fit": null,
            "object_position": null,
            "order": null,
            "overflow": null,
            "overflow_x": null,
            "overflow_y": null,
            "padding": null,
            "right": null,
            "top": null,
            "visibility": null,
            "width": null
          }
        },
        "0608e4af476b4f13940addec2b31530d": {
          "model_module": "@jupyter-widgets/controls",
          "model_name": "DescriptionStyleModel",
          "model_module_version": "1.5.0",
          "state": {
            "_model_module": "@jupyter-widgets/controls",
            "_model_module_version": "1.5.0",
            "_model_name": "DescriptionStyleModel",
            "_view_count": null,
            "_view_module": "@jupyter-widgets/base",
            "_view_module_version": "1.2.0",
            "_view_name": "StyleView",
            "description_width": ""
          }
        },
        "529cf90d22e44bfaae78a8a9d14435b2": {
          "model_module": "@jupyter-widgets/base",
          "model_name": "LayoutModel",
          "model_module_version": "1.2.0",
          "state": {
            "_model_module": "@jupyter-widgets/base",
            "_model_module_version": "1.2.0",
            "_model_name": "LayoutModel",
            "_view_count": null,
            "_view_module": "@jupyter-widgets/base",
            "_view_module_version": "1.2.0",
            "_view_name": "LayoutView",
            "align_content": null,
            "align_items": null,
            "align_self": null,
            "border": null,
            "bottom": null,
            "display": null,
            "flex": null,
            "flex_flow": null,
            "grid_area": null,
            "grid_auto_columns": null,
            "grid_auto_flow": null,
            "grid_auto_rows": null,
            "grid_column": null,
            "grid_gap": null,
            "grid_row": null,
            "grid_template_areas": null,
            "grid_template_columns": null,
            "grid_template_rows": null,
            "height": null,
            "justify_content": null,
            "justify_items": null,
            "left": null,
            "margin": null,
            "max_height": null,
            "max_width": null,
            "min_height": null,
            "min_width": null,
            "object_fit": null,
            "object_position": null,
            "order": null,
            "overflow": null,
            "overflow_x": null,
            "overflow_y": null,
            "padding": null,
            "right": null,
            "top": null,
            "visibility": null,
            "width": null
          }
        },
        "0939a9dbe96d4991a226c265f424ee1c": {
          "model_module": "@jupyter-widgets/controls",
          "model_name": "ProgressStyleModel",
          "model_module_version": "1.5.0",
          "state": {
            "_model_module": "@jupyter-widgets/controls",
            "_model_module_version": "1.5.0",
            "_model_name": "ProgressStyleModel",
            "_view_count": null,
            "_view_module": "@jupyter-widgets/base",
            "_view_module_version": "1.2.0",
            "_view_name": "StyleView",
            "bar_color": null,
            "description_width": ""
          }
        },
        "fef082d5ad43423aa7a6740483b21261": {
          "model_module": "@jupyter-widgets/base",
          "model_name": "LayoutModel",
          "model_module_version": "1.2.0",
          "state": {
            "_model_module": "@jupyter-widgets/base",
            "_model_module_version": "1.2.0",
            "_model_name": "LayoutModel",
            "_view_count": null,
            "_view_module": "@jupyter-widgets/base",
            "_view_module_version": "1.2.0",
            "_view_name": "LayoutView",
            "align_content": null,
            "align_items": null,
            "align_self": null,
            "border": null,
            "bottom": null,
            "display": null,
            "flex": null,
            "flex_flow": null,
            "grid_area": null,
            "grid_auto_columns": null,
            "grid_auto_flow": null,
            "grid_auto_rows": null,
            "grid_column": null,
            "grid_gap": null,
            "grid_row": null,
            "grid_template_areas": null,
            "grid_template_columns": null,
            "grid_template_rows": null,
            "height": null,
            "justify_content": null,
            "justify_items": null,
            "left": null,
            "margin": null,
            "max_height": null,
            "max_width": null,
            "min_height": null,
            "min_width": null,
            "object_fit": null,
            "object_position": null,
            "order": null,
            "overflow": null,
            "overflow_x": null,
            "overflow_y": null,
            "padding": null,
            "right": null,
            "top": null,
            "visibility": null,
            "width": null
          }
        },
        "4788fcfa01f84735a2a1017bdfb688c8": {
          "model_module": "@jupyter-widgets/controls",
          "model_name": "DescriptionStyleModel",
          "model_module_version": "1.5.0",
          "state": {
            "_model_module": "@jupyter-widgets/controls",
            "_model_module_version": "1.5.0",
            "_model_name": "DescriptionStyleModel",
            "_view_count": null,
            "_view_module": "@jupyter-widgets/base",
            "_view_module_version": "1.2.0",
            "_view_name": "StyleView",
            "description_width": ""
          }
        },
        "ba2ae7d054804955ba0a0a976989d29a": {
          "model_module": "@jupyter-widgets/controls",
          "model_name": "HBoxModel",
          "model_module_version": "1.5.0",
          "state": {
            "_dom_classes": [],
            "_model_module": "@jupyter-widgets/controls",
            "_model_module_version": "1.5.0",
            "_model_name": "HBoxModel",
            "_view_count": null,
            "_view_module": "@jupyter-widgets/controls",
            "_view_module_version": "1.5.0",
            "_view_name": "HBoxView",
            "box_style": "",
            "children": [
              "IPY_MODEL_e52b3cc6335044d9b958cf9bc5ef06b6",
              "IPY_MODEL_60bc5c9126f3433fb108bc9ccd8644da",
              "IPY_MODEL_c5a9c1a900d84d24b4a6bd1d5fd4cf64"
            ],
            "layout": "IPY_MODEL_5015398932354b129d3f3f9881554d0c"
          }
        },
        "e52b3cc6335044d9b958cf9bc5ef06b6": {
          "model_module": "@jupyter-widgets/controls",
          "model_name": "HTMLModel",
          "model_module_version": "1.5.0",
          "state": {
            "_dom_classes": [],
            "_model_module": "@jupyter-widgets/controls",
            "_model_module_version": "1.5.0",
            "_model_name": "HTMLModel",
            "_view_count": null,
            "_view_module": "@jupyter-widgets/controls",
            "_view_module_version": "1.5.0",
            "_view_name": "HTMLView",
            "description": "",
            "description_tooltip": null,
            "layout": "IPY_MODEL_a0d536a530b744bba82cc02ba5e2bcc2",
            "placeholder": "​",
            "style": "IPY_MODEL_6321dd7a7d234e369fcbf34c23e82dbb",
            "value": "model.safetensors: 100%"
          }
        },
        "60bc5c9126f3433fb108bc9ccd8644da": {
          "model_module": "@jupyter-widgets/controls",
          "model_name": "FloatProgressModel",
          "model_module_version": "1.5.0",
          "state": {
            "_dom_classes": [],
            "_model_module": "@jupyter-widgets/controls",
            "_model_module_version": "1.5.0",
            "_model_name": "FloatProgressModel",
            "_view_count": null,
            "_view_module": "@jupyter-widgets/controls",
            "_view_module_version": "1.5.0",
            "_view_name": "ProgressView",
            "bar_style": "success",
            "description": "",
            "description_tooltip": null,
            "layout": "IPY_MODEL_4630a367224e4dc4b5f172fd0cb4ec71",
            "max": 290403936,
            "min": 0,
            "orientation": "horizontal",
            "style": "IPY_MODEL_eb9caf49003044e2aa3c03e4dc171722",
            "value": 290403936
          }
        },
        "c5a9c1a900d84d24b4a6bd1d5fd4cf64": {
          "model_module": "@jupyter-widgets/controls",
          "model_name": "HTMLModel",
          "model_module_version": "1.5.0",
          "state": {
            "_dom_classes": [],
            "_model_module": "@jupyter-widgets/controls",
            "_model_module_version": "1.5.0",
            "_model_name": "HTMLModel",
            "_view_count": null,
            "_view_module": "@jupyter-widgets/controls",
            "_view_module_version": "1.5.0",
            "_view_name": "HTMLView",
            "description": "",
            "description_tooltip": null,
            "layout": "IPY_MODEL_9c05c348a6714ccdbaf616c20b741f86",
            "placeholder": "​",
            "style": "IPY_MODEL_c847e1bdec664f52bdfb359cc7612d82",
            "value": " 290M/290M [00:01&lt;00:00, 200MB/s]"
          }
        },
        "5015398932354b129d3f3f9881554d0c": {
          "model_module": "@jupyter-widgets/base",
          "model_name": "LayoutModel",
          "model_module_version": "1.2.0",
          "state": {
            "_model_module": "@jupyter-widgets/base",
            "_model_module_version": "1.2.0",
            "_model_name": "LayoutModel",
            "_view_count": null,
            "_view_module": "@jupyter-widgets/base",
            "_view_module_version": "1.2.0",
            "_view_name": "LayoutView",
            "align_content": null,
            "align_items": null,
            "align_self": null,
            "border": null,
            "bottom": null,
            "display": null,
            "flex": null,
            "flex_flow": null,
            "grid_area": null,
            "grid_auto_columns": null,
            "grid_auto_flow": null,
            "grid_auto_rows": null,
            "grid_column": null,
            "grid_gap": null,
            "grid_row": null,
            "grid_template_areas": null,
            "grid_template_columns": null,
            "grid_template_rows": null,
            "height": null,
            "justify_content": null,
            "justify_items": null,
            "left": null,
            "margin": null,
            "max_height": null,
            "max_width": null,
            "min_height": null,
            "min_width": null,
            "object_fit": null,
            "object_position": null,
            "order": null,
            "overflow": null,
            "overflow_x": null,
            "overflow_y": null,
            "padding": null,
            "right": null,
            "top": null,
            "visibility": null,
            "width": null
          }
        },
        "a0d536a530b744bba82cc02ba5e2bcc2": {
          "model_module": "@jupyter-widgets/base",
          "model_name": "LayoutModel",
          "model_module_version": "1.2.0",
          "state": {
            "_model_module": "@jupyter-widgets/base",
            "_model_module_version": "1.2.0",
            "_model_name": "LayoutModel",
            "_view_count": null,
            "_view_module": "@jupyter-widgets/base",
            "_view_module_version": "1.2.0",
            "_view_name": "LayoutView",
            "align_content": null,
            "align_items": null,
            "align_self": null,
            "border": null,
            "bottom": null,
            "display": null,
            "flex": null,
            "flex_flow": null,
            "grid_area": null,
            "grid_auto_columns": null,
            "grid_auto_flow": null,
            "grid_auto_rows": null,
            "grid_column": null,
            "grid_gap": null,
            "grid_row": null,
            "grid_template_areas": null,
            "grid_template_columns": null,
            "grid_template_rows": null,
            "height": null,
            "justify_content": null,
            "justify_items": null,
            "left": null,
            "margin": null,
            "max_height": null,
            "max_width": null,
            "min_height": null,
            "min_width": null,
            "object_fit": null,
            "object_position": null,
            "order": null,
            "overflow": null,
            "overflow_x": null,
            "overflow_y": null,
            "padding": null,
            "right": null,
            "top": null,
            "visibility": null,
            "width": null
          }
        },
        "6321dd7a7d234e369fcbf34c23e82dbb": {
          "model_module": "@jupyter-widgets/controls",
          "model_name": "DescriptionStyleModel",
          "model_module_version": "1.5.0",
          "state": {
            "_model_module": "@jupyter-widgets/controls",
            "_model_module_version": "1.5.0",
            "_model_name": "DescriptionStyleModel",
            "_view_count": null,
            "_view_module": "@jupyter-widgets/base",
            "_view_module_version": "1.2.0",
            "_view_name": "StyleView",
            "description_width": ""
          }
        },
        "4630a367224e4dc4b5f172fd0cb4ec71": {
          "model_module": "@jupyter-widgets/base",
          "model_name": "LayoutModel",
          "model_module_version": "1.2.0",
          "state": {
            "_model_module": "@jupyter-widgets/base",
            "_model_module_version": "1.2.0",
            "_model_name": "LayoutModel",
            "_view_count": null,
            "_view_module": "@jupyter-widgets/base",
            "_view_module_version": "1.2.0",
            "_view_name": "LayoutView",
            "align_content": null,
            "align_items": null,
            "align_self": null,
            "border": null,
            "bottom": null,
            "display": null,
            "flex": null,
            "flex_flow": null,
            "grid_area": null,
            "grid_auto_columns": null,
            "grid_auto_flow": null,
            "grid_auto_rows": null,
            "grid_column": null,
            "grid_gap": null,
            "grid_row": null,
            "grid_template_areas": null,
            "grid_template_columns": null,
            "grid_template_rows": null,
            "height": null,
            "justify_content": null,
            "justify_items": null,
            "left": null,
            "margin": null,
            "max_height": null,
            "max_width": null,
            "min_height": null,
            "min_width": null,
            "object_fit": null,
            "object_position": null,
            "order": null,
            "overflow": null,
            "overflow_x": null,
            "overflow_y": null,
            "padding": null,
            "right": null,
            "top": null,
            "visibility": null,
            "width": null
          }
        },
        "eb9caf49003044e2aa3c03e4dc171722": {
          "model_module": "@jupyter-widgets/controls",
          "model_name": "ProgressStyleModel",
          "model_module_version": "1.5.0",
          "state": {
            "_model_module": "@jupyter-widgets/controls",
            "_model_module_version": "1.5.0",
            "_model_name": "ProgressStyleModel",
            "_view_count": null,
            "_view_module": "@jupyter-widgets/base",
            "_view_module_version": "1.2.0",
            "_view_name": "StyleView",
            "bar_color": null,
            "description_width": ""
          }
        },
        "9c05c348a6714ccdbaf616c20b741f86": {
          "model_module": "@jupyter-widgets/base",
          "model_name": "LayoutModel",
          "model_module_version": "1.2.0",
          "state": {
            "_model_module": "@jupyter-widgets/base",
            "_model_module_version": "1.2.0",
            "_model_name": "LayoutModel",
            "_view_count": null,
            "_view_module": "@jupyter-widgets/base",
            "_view_module_version": "1.2.0",
            "_view_name": "LayoutView",
            "align_content": null,
            "align_items": null,
            "align_self": null,
            "border": null,
            "bottom": null,
            "display": null,
            "flex": null,
            "flex_flow": null,
            "grid_area": null,
            "grid_auto_columns": null,
            "grid_auto_flow": null,
            "grid_auto_rows": null,
            "grid_column": null,
            "grid_gap": null,
            "grid_row": null,
            "grid_template_areas": null,
            "grid_template_columns": null,
            "grid_template_rows": null,
            "height": null,
            "justify_content": null,
            "justify_items": null,
            "left": null,
            "margin": null,
            "max_height": null,
            "max_width": null,
            "min_height": null,
            "min_width": null,
            "object_fit": null,
            "object_position": null,
            "order": null,
            "overflow": null,
            "overflow_x": null,
            "overflow_y": null,
            "padding": null,
            "right": null,
            "top": null,
            "visibility": null,
            "width": null
          }
        },
        "c847e1bdec664f52bdfb359cc7612d82": {
          "model_module": "@jupyter-widgets/controls",
          "model_name": "DescriptionStyleModel",
          "model_module_version": "1.5.0",
          "state": {
            "_model_module": "@jupyter-widgets/controls",
            "_model_module_version": "1.5.0",
            "_model_name": "DescriptionStyleModel",
            "_view_count": null,
            "_view_module": "@jupyter-widgets/base",
            "_view_module_version": "1.2.0",
            "_view_name": "StyleView",
            "description_width": ""
          }
        },
        "e069e4fe60b44d26a7fdd45a583b193c": {
          "model_module": "@jupyter-widgets/controls",
          "model_name": "HBoxModel",
          "model_module_version": "1.5.0",
          "state": {
            "_dom_classes": [],
            "_model_module": "@jupyter-widgets/controls",
            "_model_module_version": "1.5.0",
            "_model_name": "HBoxModel",
            "_view_count": null,
            "_view_module": "@jupyter-widgets/controls",
            "_view_module_version": "1.5.0",
            "_view_name": "HBoxView",
            "box_style": "",
            "children": [
              "IPY_MODEL_cdf85a8dfe75475684f39733f93893c1",
              "IPY_MODEL_70a3513a6bb64cef8f2d83794ba09fd6",
              "IPY_MODEL_f9142d99c3f64206a3afd6eb10599ac1"
            ],
            "layout": "IPY_MODEL_d50da635897740c88489f081a3fd51a7"
          }
        },
        "cdf85a8dfe75475684f39733f93893c1": {
          "model_module": "@jupyter-widgets/controls",
          "model_name": "HTMLModel",
          "model_module_version": "1.5.0",
          "state": {
            "_dom_classes": [],
            "_model_module": "@jupyter-widgets/controls",
            "_model_module_version": "1.5.0",
            "_model_name": "HTMLModel",
            "_view_count": null,
            "_view_module": "@jupyter-widgets/controls",
            "_view_module_version": "1.5.0",
            "_view_name": "HTMLView",
            "description": "",
            "description_tooltip": null,
            "layout": "IPY_MODEL_67884ccc274447d78d2c7b186ff89267",
            "placeholder": "​",
            "style": "IPY_MODEL_182ddeff1b7745e68ec558b6a33e1e42",
            "value": "preprocessor_config.json: 100%"
          }
        },
        "70a3513a6bb64cef8f2d83794ba09fd6": {
          "model_module": "@jupyter-widgets/controls",
          "model_name": "FloatProgressModel",
          "model_module_version": "1.5.0",
          "state": {
            "_dom_classes": [],
            "_model_module": "@jupyter-widgets/controls",
            "_model_module_version": "1.5.0",
            "_model_name": "FloatProgressModel",
            "_view_count": null,
            "_view_module": "@jupyter-widgets/controls",
            "_view_module_version": "1.5.0",
            "_view_name": "ProgressView",
            "bar_style": "success",
            "description": "",
            "description_tooltip": null,
            "layout": "IPY_MODEL_28c2d9d7059f417394859193265df06e",
            "max": 184990,
            "min": 0,
            "orientation": "horizontal",
            "style": "IPY_MODEL_b42d7403638841ee8c0359600eea5785",
            "value": 184990
          }
        },
        "f9142d99c3f64206a3afd6eb10599ac1": {
          "model_module": "@jupyter-widgets/controls",
          "model_name": "HTMLModel",
          "model_module_version": "1.5.0",
          "state": {
            "_dom_classes": [],
            "_model_module": "@jupyter-widgets/controls",
            "_model_module_version": "1.5.0",
            "_model_name": "HTMLModel",
            "_view_count": null,
            "_view_module": "@jupyter-widgets/controls",
            "_view_module_version": "1.5.0",
            "_view_name": "HTMLView",
            "description": "",
            "description_tooltip": null,
            "layout": "IPY_MODEL_12c34c5aa7844640afe1ab677541d097",
            "placeholder": "​",
            "style": "IPY_MODEL_147ef33516c3481e9893773107fe19e4",
            "value": " 185k/185k [00:00&lt;00:00, 5.41MB/s]"
          }
        },
        "d50da635897740c88489f081a3fd51a7": {
          "model_module": "@jupyter-widgets/base",
          "model_name": "LayoutModel",
          "model_module_version": "1.2.0",
          "state": {
            "_model_module": "@jupyter-widgets/base",
            "_model_module_version": "1.2.0",
            "_model_name": "LayoutModel",
            "_view_count": null,
            "_view_module": "@jupyter-widgets/base",
            "_view_module_version": "1.2.0",
            "_view_name": "LayoutView",
            "align_content": null,
            "align_items": null,
            "align_self": null,
            "border": null,
            "bottom": null,
            "display": null,
            "flex": null,
            "flex_flow": null,
            "grid_area": null,
            "grid_auto_columns": null,
            "grid_auto_flow": null,
            "grid_auto_rows": null,
            "grid_column": null,
            "grid_gap": null,
            "grid_row": null,
            "grid_template_areas": null,
            "grid_template_columns": null,
            "grid_template_rows": null,
            "height": null,
            "justify_content": null,
            "justify_items": null,
            "left": null,
            "margin": null,
            "max_height": null,
            "max_width": null,
            "min_height": null,
            "min_width": null,
            "object_fit": null,
            "object_position": null,
            "order": null,
            "overflow": null,
            "overflow_x": null,
            "overflow_y": null,
            "padding": null,
            "right": null,
            "top": null,
            "visibility": null,
            "width": null
          }
        },
        "67884ccc274447d78d2c7b186ff89267": {
          "model_module": "@jupyter-widgets/base",
          "model_name": "LayoutModel",
          "model_module_version": "1.2.0",
          "state": {
            "_model_module": "@jupyter-widgets/base",
            "_model_module_version": "1.2.0",
            "_model_name": "LayoutModel",
            "_view_count": null,
            "_view_module": "@jupyter-widgets/base",
            "_view_module_version": "1.2.0",
            "_view_name": "LayoutView",
            "align_content": null,
            "align_items": null,
            "align_self": null,
            "border": null,
            "bottom": null,
            "display": null,
            "flex": null,
            "flex_flow": null,
            "grid_area": null,
            "grid_auto_columns": null,
            "grid_auto_flow": null,
            "grid_auto_rows": null,
            "grid_column": null,
            "grid_gap": null,
            "grid_row": null,
            "grid_template_areas": null,
            "grid_template_columns": null,
            "grid_template_rows": null,
            "height": null,
            "justify_content": null,
            "justify_items": null,
            "left": null,
            "margin": null,
            "max_height": null,
            "max_width": null,
            "min_height": null,
            "min_width": null,
            "object_fit": null,
            "object_position": null,
            "order": null,
            "overflow": null,
            "overflow_x": null,
            "overflow_y": null,
            "padding": null,
            "right": null,
            "top": null,
            "visibility": null,
            "width": null
          }
        },
        "182ddeff1b7745e68ec558b6a33e1e42": {
          "model_module": "@jupyter-widgets/controls",
          "model_name": "DescriptionStyleModel",
          "model_module_version": "1.5.0",
          "state": {
            "_model_module": "@jupyter-widgets/controls",
            "_model_module_version": "1.5.0",
            "_model_name": "DescriptionStyleModel",
            "_view_count": null,
            "_view_module": "@jupyter-widgets/base",
            "_view_module_version": "1.2.0",
            "_view_name": "StyleView",
            "description_width": ""
          }
        },
        "28c2d9d7059f417394859193265df06e": {
          "model_module": "@jupyter-widgets/base",
          "model_name": "LayoutModel",
          "model_module_version": "1.2.0",
          "state": {
            "_model_module": "@jupyter-widgets/base",
            "_model_module_version": "1.2.0",
            "_model_name": "LayoutModel",
            "_view_count": null,
            "_view_module": "@jupyter-widgets/base",
            "_view_module_version": "1.2.0",
            "_view_name": "LayoutView",
            "align_content": null,
            "align_items": null,
            "align_self": null,
            "border": null,
            "bottom": null,
            "display": null,
            "flex": null,
            "flex_flow": null,
            "grid_area": null,
            "grid_auto_columns": null,
            "grid_auto_flow": null,
            "grid_auto_rows": null,
            "grid_column": null,
            "grid_gap": null,
            "grid_row": null,
            "grid_template_areas": null,
            "grid_template_columns": null,
            "grid_template_rows": null,
            "height": null,
            "justify_content": null,
            "justify_items": null,
            "left": null,
            "margin": null,
            "max_height": null,
            "max_width": null,
            "min_height": null,
            "min_width": null,
            "object_fit": null,
            "object_position": null,
            "order": null,
            "overflow": null,
            "overflow_x": null,
            "overflow_y": null,
            "padding": null,
            "right": null,
            "top": null,
            "visibility": null,
            "width": null
          }
        },
        "b42d7403638841ee8c0359600eea5785": {
          "model_module": "@jupyter-widgets/controls",
          "model_name": "ProgressStyleModel",
          "model_module_version": "1.5.0",
          "state": {
            "_model_module": "@jupyter-widgets/controls",
            "_model_module_version": "1.5.0",
            "_model_name": "ProgressStyleModel",
            "_view_count": null,
            "_view_module": "@jupyter-widgets/base",
            "_view_module_version": "1.2.0",
            "_view_name": "StyleView",
            "bar_color": null,
            "description_width": ""
          }
        },
        "12c34c5aa7844640afe1ab677541d097": {
          "model_module": "@jupyter-widgets/base",
          "model_name": "LayoutModel",
          "model_module_version": "1.2.0",
          "state": {
            "_model_module": "@jupyter-widgets/base",
            "_model_module_version": "1.2.0",
            "_model_name": "LayoutModel",
            "_view_count": null,
            "_view_module": "@jupyter-widgets/base",
            "_view_module_version": "1.2.0",
            "_view_name": "LayoutView",
            "align_content": null,
            "align_items": null,
            "align_self": null,
            "border": null,
            "bottom": null,
            "display": null,
            "flex": null,
            "flex_flow": null,
            "grid_area": null,
            "grid_auto_columns": null,
            "grid_auto_flow": null,
            "grid_auto_rows": null,
            "grid_column": null,
            "grid_gap": null,
            "grid_row": null,
            "grid_template_areas": null,
            "grid_template_columns": null,
            "grid_template_rows": null,
            "height": null,
            "justify_content": null,
            "justify_items": null,
            "left": null,
            "margin": null,
            "max_height": null,
            "max_width": null,
            "min_height": null,
            "min_width": null,
            "object_fit": null,
            "object_position": null,
            "order": null,
            "overflow": null,
            "overflow_x": null,
            "overflow_y": null,
            "padding": null,
            "right": null,
            "top": null,
            "visibility": null,
            "width": null
          }
        },
        "147ef33516c3481e9893773107fe19e4": {
          "model_module": "@jupyter-widgets/controls",
          "model_name": "DescriptionStyleModel",
          "model_module_version": "1.5.0",
          "state": {
            "_model_module": "@jupyter-widgets/controls",
            "_model_module_version": "1.5.0",
            "_model_name": "DescriptionStyleModel",
            "_view_count": null,
            "_view_module": "@jupyter-widgets/base",
            "_view_module_version": "1.2.0",
            "_view_name": "StyleView",
            "description_width": ""
          }
        }
      }
    }
  },
  "nbformat": 4,
  "nbformat_minor": 0
}